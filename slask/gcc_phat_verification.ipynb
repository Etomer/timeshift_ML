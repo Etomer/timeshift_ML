{
 "cells": [
  {
   "cell_type": "code",
   "execution_count": 1,
   "metadata": {},
   "outputs": [],
   "source": [
    "import torch\n",
    "from torch.utils.data import Dataset, DataLoader\n",
    "import scipy.io.wavfile as wav\n",
    "import os\n",
    "import pandas as pd\n",
    "import matplotlib.pyplot as plt\n",
    "import torchaudio\n",
    "from glob import glob\n",
    "import math\n",
    "import torch.nn as nn\n",
    "import numpy as np\n",
    "from bisect import bisect_left\n",
    "import scipy as sp\n",
    "import h5py\n",
    "from scipy.io import wavfile\n"
   ]
  },
  {
   "cell_type": "code",
   "execution_count": 2,
   "metadata": {},
   "outputs": [],
   "source": [
    "data_folder = \"../data/datasets/\"\n",
    "device = 'cuda' if torch.cuda.is_available() else ('mps' if torch.backends.mps.is_available() else 'cpu')\n",
    "dropout = 0.1\n",
    "batch_size = 128\n",
    "fs = 16000\n",
    "\n",
    "max_shift = 500 # in samples\n",
    "guess_grid_size = max_shift\n",
    "\n",
    "#f = h5py.File(\"../datasets/generated_dataset/generated_dataset_easy.hdf5\",\"r\")\n",
    "#f = h5py.File(\"../datasets/generated_dataset/generated_dataset_medium.hdf5\",\"r\")\n",
    "#f = h5py.File(\"../datasets/generated_dataset/generated_dataset_hard.hdf5\",\"r\")\n",
    "f = h5py.File(\"../datasets/generated_dataset/generated_dataset_extreme.hdf5\",\"r\")\n",
    "#f = h5py.File(\"../datasets/generated_dataset/generated_dataset_real.hdf5\",\"r\")\n",
    "\n",
    "\n",
    "X = f['input']\n",
    "y = f['gt']\n",
    "\n",
    "# f_test = h5py.File(\"../datasets/generated_dataset/generated_dataset_valer.hdf5\",\"r\")\n",
    "# X_test = f_test['input']\n",
    "# y_test = f_test['gt']\n",
    "\n",
    "#X = torch.load(os.path.join(data_folder,\"input2.pt\"))\n",
    "#y = torch.load(os.path.join(data_folder,\"gt2.pt\"))\n",
    "#X_test = torch.load(os.path.join(data_folder,\"input.pt\"))\n",
    "#y_test = torch.load(os.path.join(data_folder,\"gt.pt\"))\n",
    "\n",
    "class custom_dataset(Dataset):\n",
    "\n",
    "    def __init__(self, X, y, idx_min=0,dataset_len=len(X)):\n",
    "        self.X = X\n",
    "        self.y = y\n",
    "        self.dataset_len = dataset_len\n",
    "        self.idx_min = idx_min\n",
    "\n",
    "    def __getitem__(self, idx):\n",
    "        return self.X[idx + self.idx_min],self.y[idx + self.idx_min]\n",
    "\n",
    "    def __len__(self):\n",
    "        return self.dataset_len\n",
    "\n",
    "split_i = int(X.shape[0]*0.98)\n",
    "dataset = custom_dataset(X,y, 0, split_i)\n",
    "#dataset_test = custom_dataset(X_test,y_test, 0 ,X_test.shape[0])\n",
    "dataset_test = custom_dataset(X,y, split_i, X.shape[0] - split_i)\n",
    "#dataset, dataset_test = torch.utils.data.random_split(dataset, [0.98,0.02])\n",
    "train_dl = DataLoader(dataset, batch_size=batch_size, shuffle=True)\n",
    "test_dl = DataLoader(dataset_test, batch_size=batch_size, shuffle=False)\n"
   ]
  },
  {
   "cell_type": "code",
   "execution_count": 3,
   "metadata": {},
   "outputs": [],
   "source": [
    "def augment_shift(X,y, common_shift=True):\n",
    "    X = torch.complex(X[:,0],X[:,1])\n",
    "\n",
    "    #augment 1, multiply each of the vectors with phase\n",
    "    \n",
    "\n",
    "    max_shift = 100 # number of samples to max_shift\n",
    "    sample_length = 10000\n",
    "\n",
    "\n",
    "    imag_unit = torch.complex(torch.tensor(0.0),torch.tensor(1.0))\n",
    "    if common_shift:\n",
    "        sample_shift = (torch.rand(X.shape[0],1,1)*2 - 1)*max_shift\n",
    "        phase_shift = (-sample_shift/sample_length*2*torch.pi*imag_unit*torch.arange(X.shape[1]).unsqueeze(1)).exp()\n",
    "        new_abf = X*phase_shift\n",
    "        X = torch.stack([torch.real(new_abf),torch.imag(new_abf)], dim=1)\n",
    "        \n",
    "    else:\n",
    "        sample_shift = (torch.rand(X.shape[0],1,2)*2 - 1)*max_shift\n",
    "        phase_shift = (-sample_shift/sample_length*2*torch.pi*imag_unit*torch.arange(X.shape[1]).unsqueeze(1)).exp()\n",
    "        new_abf = X*phase_shift\n",
    "        X = torch.stack([torch.real(new_abf),torch.imag(new_abf)], dim=1)\n",
    "        y = y + (sample_shift[:,:,0] - sample_shift[:,:,1]).to(int)\n",
    "    return (X,y)\n",
    "\n",
    "def augment_amp(X,y):\n",
    "    amp_max = 3\n",
    "    amp_min = 0.2\n",
    "    amp_change_factor = torch.rand(X.shape)*(amp_max - amp_min) + amp_min\n",
    "    X = X*amp_change_factor\n",
    "    return (X,y)\n"
   ]
  },
  {
   "cell_type": "markdown",
   "metadata": {},
   "source": [
    "# Single example test"
   ]
  },
  {
   "cell_type": "code",
   "execution_count": 4,
   "metadata": {},
   "outputs": [
    {
     "name": "stdout",
     "output_type": "stream",
     "text": [
      "tensor(133)\n"
     ]
    },
    {
     "name": "stderr",
     "output_type": "stream",
     "text": [
      "/var/folders/m3/_f4v2b3d6yz294_hq5ftj83c0000gn/T/ipykernel_50813/3491225536.py:4: UserWarning: To copy construct from a tensor, it is recommended to use sourceTensor.clone().detach() or sourceTensor.clone().detach().requires_grad_(True), rather than torch.tensor(sourceTensor).\n",
      "  X = torch.tensor(X)\n"
     ]
    },
    {
     "data": {
      "text/plain": [
       "tensor([59.4134])"
      ]
     },
     "execution_count": 4,
     "metadata": {},
     "output_type": "execute_result"
    },
    {
     "data": {
      "image/png": "[encoded data removed]",
      "text/plain": [
       "<Figure size 432x288 with 1 Axes>"
      ]
     },
     "metadata": {
      "needs_background": "light"
     },
     "output_type": "display_data"
    }
   ],
   "source": [
    "\n",
    "X,y = next(iter(train_dl))\n",
    "X,y = augment_shift(X,y)\n",
    "X,y = augment_amp(X,y)\n",
    "X = torch.tensor(X)\n",
    "X = torch.complex(X[:,0],X[:,1])\n",
    "\n",
    "i = 0\n",
    "c = X[i,:,0]*torch.conj(X[i,:,1])\n",
    "\n",
    "cc = torch.concatenate([c, torch.zeros(10000 - 2*c.shape[0]),torch.conj(c.flip(dims=(0,)))])\n",
    "cc = cc /( cc.abs() + 1e-8)\n",
    "\n",
    "f = torch.fft.ifft(cc)\n",
    "f = torch.real(f)\n",
    "\n",
    "\n",
    "plt.plot(f)\n",
    "w = f.argmax()\n",
    "\n",
    "if w > 1000:\n",
    "    w = w - len(f)\n",
    "print(w)\n",
    "y[i]"
   ]
  },
  {
   "cell_type": "markdown",
   "metadata": {},
   "source": [
    "# Histogram over dataset"
   ]
  },
  {
   "cell_type": "code",
   "execution_count": 5,
   "metadata": {},
   "outputs": [],
   "source": [
    "# res = []\n",
    "# for X,y in train_dl:\n",
    "#     X = torch.tensor(X)\n",
    "#     X = torch.complex(X[:,0],X[:,1])\n",
    "\n",
    "#     for i in range(X.shape[0]):\n",
    "#         c = X[i,:,0]*torch.conj(X[i,:,1])\n",
    "\n",
    "#         cc = torch.concatenate([c, torch.zeros(10000 - 2*c.shape[0]),torch.conj(c.flip(dims=(0,)))])\n",
    "#         cc = cc /( cc.abs() + 1e-8)\n",
    "\n",
    "#         f = torch.fft.ifft(cc)\n",
    "#         f = torch.real(f)\n",
    "#         w = f.argmax()\n",
    "\n",
    "#         if w > 1000:\n",
    "#             w = w - len(f)\n",
    "#         res.append((y[i] - w).item())\n",
    "# res = torch.tensor(res)        \n",
    "# plt.hist(res, bins=50, range=(-50, 50));\n",
    "\n",
    "# print(f'{(sum(res.abs() < 5)/res.shape[0]).item():.2f} inliers')"
   ]
  },
  {
   "cell_type": "code",
   "execution_count": 98,
   "metadata": {},
   "outputs": [],
   "source": [
    "def format_simulated_data(X,y):\n",
    "        \"\"\"\n",
    "        transform a tensor of impulse responses in different rooms into pairwise TimeEstimation-problems. Note (X and y should be on GPU)\n",
    "\n",
    "        \"\"\"\n",
    "        #pull a random sound\n",
    "        sound_paths = glob(\"../data/reference_data/reference_sounds/*.wav\")\n",
    "        sound_path = sound_paths[np.random.randint(len(sound_paths))]\n",
    "        fs,signal = wavfile.read(sound_path)\n",
    "        start = np.random.randint(0,len(signal) - config[\"sample_length\"] - config[\"rir_len\"]-1, X.shape[0])\n",
    "        # simulate longer sound and then cut to the relevant piece\n",
    "        signals = np.zeros((X.shape[0], config[\"sample_length\"] + config[\"rir_len\"]-1))\n",
    "        for i in range(X.shape[0]):\n",
    "            signals[i,:] = signal[start[i]:start[i]  + config[\"sample_length\"] + config[\"rir_len\"]-1]\n",
    "        signals = torch.tensor(signals).to(torch.float32).to(device).unsqueeze(1)\n",
    "\n",
    "        q = torch.fft.irfft(torch.fft.rfft(signals)*torch.fft.rfft(X,signals.shape[2]))[:,:,:config[\"sample_length\"]] # compute the heard sound, and cut it to the right length\n",
    "        q = torch.fft.rfft(q)[:,:,:config[\"max_freq\"]] # cut frequencies which are too high\n",
    "        q = q.unsqueeze(2)\n",
    "        q = torch.concatenate([torch.concatenate([q,q.roll(i+1, 1)], dim=2) for i in range(config[\"mics_per_batch\"] // 2)],dim=1) # organize sounds pairwise\n",
    "        q = q.view(X.shape[0]*(config[\"mics_per_batch\"]*(config[\"mics_per_batch\"] - 1 ))//2, 2,-1) # reshape so that each example is a row\n",
    "        X = torch.concatenate([q.real,q.imag],dim=1)\n",
    "        y = torch.concatenate([y - y.roll(i+1,1) for i in range(config[\"mics_per_batch\"]//2)],dim=1).view(-1)*fs/343 # compute gt for all pairs\n",
    "        #y = y_to_class_gt(y, config[\"guess_grid_size\"], config[\"max_shift\"]).to(torch.long)\n",
    "        \n",
    "        return X,y\n",
    "\n",
    "def y_to_class_gt(y, guess_grid_size, max_shift) :\n",
    "        y[y.abs() > max_shift] = max_shift*y[y.abs() > max_shift].sign()\n",
    "\n",
    "        bin_width = max_shift*2/guess_grid_size\n",
    "        y = (y/bin_width).round() + guess_grid_size // 2 \n",
    "        y[y == guess_grid_size] = guess_grid_size - 1\n",
    "        return y.long()\n",
    "\n",
    "# def y_to_class_gt(y, guess_grid_size, max_shift) :\n",
    "#         bin_size = max_shift*2/guess_grid_size\n",
    "#         return torch.round(guess_grid_size/2 + (y/bin_size))\n",
    "\n",
    "\n",
    "config = {\n",
    "    \"dropout\" : 0.1,\n",
    "    \"batch_size\" : 50, \n",
    "    \"max_shift\" : 500, # ~10 meters\n",
    "    \"guess_grid_size\" : 100,\n",
    "    \"dataset\" : \"impulse_response_easy.hdf5\",\n",
    "    \"cnn_output_size_at_factor_1\" : 576,\n",
    "    \"factor\" : 10,\n",
    "    \"loss_fn\" : \"cross_entropy\",\n",
    "    \"epochs\" : 200,\n",
    "    \"sample_length\" : 10000,\n",
    "    \"max_shift\" : 100,\n",
    "    \"lr\" : 3e-5,\n",
    "    \"n_batch_before_print\" : 10,\n",
    "    \"max_freq\" : 2500,\n",
    "    \"rir_len\" : 1600,\n",
    "    \"rooms_per_batch\" : 50,\n",
    "    \"mics_per_batch\" : 11,\n",
    "    \"warmup_steps_per_epoch\" : 5,\n",
    "    \"warmup_epochs\" : 2,\n",
    "}\n",
    "\n",
    "f = h5py.File(data_folder + config[\"dataset\"],\"r\")\n",
    "device = \"cpu\"\n",
    "X = f['input']\n",
    "y = f['gt']\n",
    "\n",
    "class custom_dataset(Dataset):\n",
    "\n",
    "        def __init__(self, X, y, idx_min=0,dataset_len=len(X)):\n",
    "                self.X = X\n",
    "                self.y = y\n",
    "                self.dataset_len = dataset_len\n",
    "                self.idx_min = idx_min\n",
    "\n",
    "        def __getitem__(self, idx):\n",
    "                return self.X[idx + self.idx_min,:config[\"mics_per_batch\"]],self.y[idx + self.idx_min,:config[\"mics_per_batch\"]]\n",
    "\n",
    "        def __len__(self):\n",
    "                return self.dataset_len\n",
    "\n",
    "# package datasets\n",
    "split_i = int(X.shape[0]*0.9)\n",
    "dataset = custom_dataset(X,y, 0, split_i)\n",
    "dataset_test = custom_dataset(X,y, split_i, X.shape[0] - split_i)\n",
    "train_dl = DataLoader(dataset, batch_size=config[\"batch_size\"], shuffle=True)\n",
    "test_dl = DataLoader(dataset_test, batch_size=config[\"batch_size\"], shuffle=False)\n",
    "\n"
   ]
  },
  {
   "cell_type": "code",
   "execution_count": 99,
   "metadata": {},
   "outputs": [],
   "source": [
    "import sys\n",
    "sys.path.append(\"../models/\")\n",
    "import gcc_phat\n"
   ]
  },
  {
   "cell_type": "code",
   "execution_count": 117,
   "metadata": {},
   "outputs": [
    {
     "name": "stdout",
     "output_type": "stream",
     "text": [
      "GCC-PHAT prediction: 60\n",
      "Ground truth: 106\n"
     ]
    },
    {
     "data": {
      "text/plain": [
       "tensor([61])"
      ]
     },
     "execution_count": 117,
     "metadata": {},
     "output_type": "execute_result"
    },
    {
     "data": {
      "image/png": "[encoded data removed]",
      "text/plain": [
       "<Figure size 432x288 with 1 Axes>"
      ]
     },
     "metadata": {
      "needs_background": "light"
     },
     "output_type": "display_data"
    }
   ],
   "source": [
    "X,y = next(iter(train_dl))\n",
    "X = X.to(device)\n",
    "y = y.to(device)\n",
    "X,y = format_simulated_data(X,y)\n",
    "X = X.cpu()\n",
    "#X = torch.complex(X[:,0::2,:],X[:,1::2])\n",
    "#c = X[:,0]*X[:,1].conj()\n",
    "#x = torch.fft.irfft(torch.concatenate([c/(c.abs() + 1e-10), torch.zeros(X.shape[0],config[\"sample_length\"]//2 + 1 - X.shape[2])], dim= 1))\n",
    "\n",
    "grid_guess_size = 100\n",
    "max_shift = 500\n",
    "\n",
    "\n",
    "x = torch.fft.fftshift(x,dim=1)\n",
    "# recompute  correct bin size\n",
    "bin_size = 2*max_shift/grid_guess_size\n",
    "pred = torch.zeros(x.shape[0], grid_guess_size)\n",
    "for i in range(grid_guess_size):\n",
    "    start = int(x.shape[1] // 2 - (grid_guess_size / 2)*bin_size + bin_size * i)\n",
    "    #print(torch.sum(x[:,start:(start + bin_size)],dim=1).shape)\n",
    "    \n",
    "    pred[:,i] = torch.sum(x[:,start:(start + int(bin_size))],dim=1)\n",
    "\n",
    "pred = pred[0]\n",
    "model = gcc_phat.gcc_phat_model(10000, 500 ,100)\n",
    "\n",
    "pred = model.forward(X)[0]\n",
    "\n",
    "a = pred.argmax()\n",
    "\n",
    "# if a > pred.shape[0]//2:\n",
    "#    a -= pred.shape[0]\n",
    "\n",
    "plt.plot(pred)\n",
    "print(f'GCC-PHAT prediction: {a}')\n",
    "print(f'Ground truth: {y[0]:.0f}')\n",
    "\n",
    "y_to_class_gt(y[0:1],grid_guess_size,max_shift)\n",
    "\n",
    "#bin_size = (max_shift*2)/grid_guess_size\n",
    "#torch.round(grid_guess_size/2 + (y[0]/bin_size))\n"
   ]
  },
  {
   "cell_type": "code",
   "execution_count": null,
   "metadata": {},
   "outputs": [],
   "source": []
  },
  {
   "cell_type": "code",
   "execution_count": null,
   "metadata": {},
   "outputs": [],
   "source": []
  },
  {
   "cell_type": "code",
   "execution_count": 491,
   "metadata": {},
   "outputs": [
    {
     "data": {
      "text/plain": [
       "tensor([ 12.2087, -43.1393,   5.5792,  ..., 229.9144, 343.6151,   3.3972],\n",
       "       device='cuda:0')"
      ]
     },
     "execution_count": 491,
     "metadata": {},
     "output_type": "execute_result"
    }
   ],
   "source": [
    "X,y = next(iter(train_dl))\n",
    "\n",
    "imp = X[0,0]\n",
    "\n",
    "X = X.to(device)\n",
    "y = y.to(device)\n",
    "X,y = format_simulated_data(X,y)\n",
    "X = X.cpu()\n",
    "\n",
    "X = torch.complex(X[:,0::2],X[:,1::2])\n",
    "y\n"
   ]
  },
  {
   "cell_type": "code",
   "execution_count": null,
   "metadata": {},
   "outputs": [],
   "source": []
  },
  {
   "cell_type": "code",
   "execution_count": 492,
   "metadata": {},
   "outputs": [
    {
     "name": "stdout",
     "output_type": "stream",
     "text": [
      "tensor(12)\n"
     ]
    },
    {
     "data": {
      "text/plain": [
       "tensor(12.2087, device='cuda:0')"
      ]
     },
     "execution_count": 492,
     "metadata": {},
     "output_type": "execute_result"
    },
    {
     "data": {
      "image/png": "[encoded data removed]",
      "text/plain": [
       "<Figure size 432x288 with 1 Axes>"
      ]
     },
     "metadata": {
      "needs_background": "light"
     },
     "output_type": "display_data"
    }
   ],
   "source": [
    "\n",
    "Xt = torch.concatenate([X[0],torch.zeros(2,1 + config[\"sample_length\"]//2 - X.shape[2])], dim=1)\n",
    "\n",
    "Xt = torch.fft.irfft(Xt)\n",
    "#Xt = X[0][0:2]\n",
    "#plt.plot(Xt.T)\n",
    "\n",
    "c = torch.fft.fft(Xt)\n",
    "\n",
    "cc = c[0]*c[1].conj()\n",
    "cc = cc/(cc.abs() + 1e-10)\n",
    "\n",
    "#plt.plot(cc.T.abs())\n",
    "\n",
    "f = torch.fft.ifft(cc).real\n",
    "plt.plot(f)\n",
    "\n",
    "w = f.argmax()\n",
    "print(w)\n",
    "if w > config[\"sample_length\"]//2:\n",
    "    w = w - len(f)\n",
    "\n",
    "\n",
    "y[0]\n",
    "\n",
    "\n"
   ]
  },
  {
   "cell_type": "code",
   "execution_count": null,
   "metadata": {},
   "outputs": [],
   "source": []
  },
  {
   "cell_type": "code",
   "execution_count": 472,
   "metadata": {},
   "outputs": [
    {
     "ename": "RuntimeError",
     "evalue": "Tensors must have same number of dimensions: got 2 and 1",
     "output_type": "error",
     "traceback": [
      "\u001b[0;31m---------------------------------------------------------------------------\u001b[0m",
      "\u001b[0;31mRuntimeError\u001b[0m                              Traceback (most recent call last)",
      "\u001b[0;32m/tmp/ipykernel_100780/2551718232.py\u001b[0m in \u001b[0;36m<module>\u001b[0;34m\u001b[0m\n\u001b[1;32m      8\u001b[0m \u001b[0;34m\u001b[0m\u001b[0m\n\u001b[1;32m      9\u001b[0m \u001b[0;31m#plt.plot(X[i,0,:].real)\u001b[0m\u001b[0;34m\u001b[0m\u001b[0;34m\u001b[0m\u001b[0m\n\u001b[0;32m---> 10\u001b[0;31m \u001b[0mcc\u001b[0m \u001b[0;34m=\u001b[0m \u001b[0mtorch\u001b[0m\u001b[0;34m.\u001b[0m\u001b[0mconcatenate\u001b[0m\u001b[0;34m(\u001b[0m\u001b[0;34m[\u001b[0m\u001b[0mc\u001b[0m\u001b[0;34m,\u001b[0m \u001b[0mtorch\u001b[0m\u001b[0;34m.\u001b[0m\u001b[0mzeros\u001b[0m\u001b[0;34m(\u001b[0m\u001b[0mconfig\u001b[0m\u001b[0;34m[\u001b[0m\u001b[0;34m\"sample_length\"\u001b[0m\u001b[0;34m]\u001b[0m\u001b[0;34m//\u001b[0m\u001b[0;36m2\u001b[0m \u001b[0;34m-\u001b[0m \u001b[0mc\u001b[0m\u001b[0;34m.\u001b[0m\u001b[0mshape\u001b[0m\u001b[0;34m[\u001b[0m\u001b[0;36m0\u001b[0m\u001b[0;34m]\u001b[0m\u001b[0;34m)\u001b[0m\u001b[0;34m]\u001b[0m\u001b[0;34m)\u001b[0m\u001b[0;34m\u001b[0m\u001b[0;34m\u001b[0m\u001b[0m\n\u001b[0m\u001b[1;32m     11\u001b[0m \u001b[0mcc\u001b[0m \u001b[0;34m=\u001b[0m \u001b[0mcc\u001b[0m \u001b[0;34m/\u001b[0m\u001b[0;34m(\u001b[0m \u001b[0mcc\u001b[0m\u001b[0;34m.\u001b[0m\u001b[0mabs\u001b[0m\u001b[0;34m(\u001b[0m\u001b[0;34m)\u001b[0m \u001b[0;34m+\u001b[0m \u001b[0;36m1e-8\u001b[0m\u001b[0;34m)\u001b[0m\u001b[0;34m\u001b[0m\u001b[0;34m\u001b[0m\u001b[0m\n\u001b[1;32m     12\u001b[0m \u001b[0;34m\u001b[0m\u001b[0m\n",
      "\u001b[0;31mRuntimeError\u001b[0m: Tensors must have same number of dimensions: got 2 and 1"
     ]
    }
   ],
   "source": [
    "\n",
    "Xt = torch.concatenate([X[0,0],torch.zeros(config[\"sample_length\"]//2 - X.shape[2])])\n",
    "#plt.plot(torch.fft.irfft(Xt))\n",
    "#IPython.display.Audio(torch.fft.irfft(Xt), rate=fs)\n",
    "# #plt.plot(X[0,0].cpu().detach())\n",
    "# i = 0\n",
    "\n",
    "\n",
    "\n",
    "#plt.plot(X[i,0,:].real)\n",
    "cc = torch.concatenate([c, torch.zeros(config[\"sample_length\"]//2 - c.shape[0])])\n",
    "cc = cc /( cc.abs() + 1e-8)\n",
    "\n",
    "\n",
    "f = torch.fft.irfft(cc)\n",
    "f = torch.real(f)\n",
    "\n",
    "\n",
    "plt.plot(f)\n",
    "\n",
    "# w = f.argmax()\n",
    "\n",
    "# if w > config[\"sample_length\"]//2:\n",
    "#     w = w - len(f)\n",
    "# print(w)\n",
    "# y[i]\n"
   ]
  },
  {
   "cell_type": "code",
   "execution_count": 453,
   "metadata": {},
   "outputs": [],
   "source": [
    "X,y = next(iter(train_dl))\n",
    "X = X.to(device)\n",
    "sound_paths = glob(\"../datasets/reference_sounds/*.wav\")\n",
    "sound_path = sound_paths[np.random.randint(len(sound_paths))]\n"
   ]
  },
  {
   "cell_type": "code",
   "execution_count": 454,
   "metadata": {},
   "outputs": [
    {
     "data": {
      "text/html": [
       "\n",
       "                <audio  controls=\"controls\" >\n",
       "                    <source src=\"data:audio/wav;base64,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\" type=\"audio/wav\" />\n",
       "                    Your browser does not support the audio element.\n",
       "                </audio>\n",
       "              "
      ],
      "text/plain": [
       "<IPython.lib.display.Audio object>"
      ]
     },
     "execution_count": 454,
     "metadata": {},
     "output_type": "execute_result"
    },
    {
     "data": {
      "image/png": "[encoded data removed]",
      "text/plain": [
       "<Figure size 432x288 with 1 Axes>"
      ]
     },
     "metadata": {
      "needs_background": "light"
     },
     "output_type": "display_data"
    }
   ],
   "source": [
    "import IPython\n",
    "fs,signal = wavfile.read(sound_path)\n",
    "start = np.random.randint(0,len(signal) - config[\"sample_length\"] - config[\"rir_len\"]-1, X.shape[0])\n",
    "# simulate longer sound and then cut to the relevant piece\n",
    "signals = np.zeros((X.shape[0], config[\"sample_length\"] + config[\"rir_len\"]-1))\n",
    "for i in range(X.shape[0]):\n",
    "    signals[i,:] = signal[start[i]:start[i]  + config[\"sample_length\"] + config[\"rir_len\"]-1]\n",
    "signals = torch.tensor(signals).to(torch.float32).to(device).unsqueeze(1)\n",
    "#signals.shape\n",
    "plt.plot(signals[0,0].cpu())\n",
    "IPython.display.Audio(signals[0,0].cpu(), rate=fs)"
   ]
  },
  {
   "cell_type": "code",
   "execution_count": 458,
   "metadata": {},
   "outputs": [
    {
     "data": {
      "text/plain": [
       "11599"
      ]
     },
     "execution_count": 458,
     "metadata": {},
     "output_type": "execute_result"
    }
   ],
   "source": [
    "X,y = next(iter(train_dl))\n",
    "X = X.to(device)\n",
    "q = torch.fft.irfft(torch.fft.rfft(signals)*torch.fft.rfft(X,signals.shape[2]))[:,:,:config[\"sample_length\"]] # compute the heard sound, and cut it to the right length\n",
    "q = torch.fft.rfft(q)[:,:,:config[\"max_freq\"]] # cut frequencies which are too high\n",
    "q = q.unsqueeze(2)\n",
    "q = torch.concatenate([torch.concatenate([q,q.roll(i+1, 1)], dim=2) for i in range(config[\"mics_per_batch\"] // 2)],dim=1) # organize sounds pairwise\n",
    "q = q.view(X.shape[0]*(config[\"mics_per_batch\"]*(config[\"mics_per_batch\"] - 1 ))//2, 2,-1) # reshape so that each example is a row\n",
    "\n",
    "\n",
    "#X = torch.concatenate([q.real,q.imag],dim=1)\n",
    "#q = q[54,1,:]\n",
    "\n",
    "q = q.cpu()\n",
    "\n",
    "#plt.plot(q[0,0,:] - q[0,0,:])\n",
    "\n",
    "# q = torch.concatenate([q, torch.zeros(config[\"sample_length\"]//2 -  config[\"max_freq\"])])\n",
    "# plt.plot(torch.fft.irfft(q).cpu())\n",
    "# IPython.display.Audio(torch.fft.irfft(q).cpu(), rate=fs)\n",
    "\n",
    "#config[\"sample_length\"]//2 -  config[\"max_freq\"]\n",
    "\n",
    "# y = torch.concatenate([y - y.roll(i+1,1) for i in range(config[\"mics_per_batch\"]//2)],dim=1).view(-1)*fs/343 # compute gt for all pairs\n",
    "# y = y_to_class_gt(y, config[\"guess_grid_size\"], config[\"max_shift\"]).to(torch.long)"
   ]
  },
  {
   "cell_type": "code",
   "execution_count": 331,
   "metadata": {},
   "outputs": [
    {
     "data": {
      "text/plain": [
       "tensor([-52.4801+0.0000j, -54.2907+5.4106j, -48.1522+5.0049j,  ...,\n",
       "          0.0000+0.0000j,   0.0000+0.0000j,   0.0000+0.0000j])"
      ]
     },
     "execution_count": 331,
     "metadata": {},
     "output_type": "execute_result"
    }
   ],
   "source": [
    "q"
   ]
  },
  {
   "cell_type": "code",
   "execution_count": 141,
   "metadata": {},
   "outputs": [
    {
     "data": {
      "text/plain": [
       "[<matplotlib.lines.Line2D at 0x7f2f7c1dfbb0>]"
      ]
     },
     "execution_count": 141,
     "metadata": {},
     "output_type": "execute_result"
    },
    {
     "data": {
      "image/png": "[encoded data removed]",
      "text/plain": [
       "<Figure size 432x288 with 1 Axes>"
      ]
     },
     "metadata": {
      "needs_background": "light"
     },
     "output_type": "display_data"
    }
   ],
   "source": [
    "X,y = next(iter(train_dl))\n",
    "plt.plot(X[0,0,:])"
   ]
  },
  {
   "cell_type": "code",
   "execution_count": null,
   "metadata": {},
   "outputs": [],
   "source": []
  }
 ],
 "metadata": {
  "kernelspec": {
   "display_name": "base",
   "language": "python",
   "name": "python3"
  },
  "language_info": {
   "codemirror_mode": {
    "name": "ipython",
    "version": 3
   },
   "file_extension": ".py",
   "mimetype": "text/x-python",
   "name": "python",
   "nbconvert_exporter": "python",
   "pygments_lexer": "ipython3",
   "version": "3.9.16"
  }
 },
 "nbformat": 4,
 "nbformat_minor": 2
}
