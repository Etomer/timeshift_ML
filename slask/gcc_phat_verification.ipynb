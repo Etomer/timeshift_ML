{
 "cells": [
  {
   "cell_type": "code",
   "execution_count": 44,
   "metadata": {},
   "outputs": [],
   "source": [
    "import torch\n",
    "from torch.utils.data import Dataset, DataLoader\n",
    "import scipy.io.wavfile as wav\n",
    "import os\n",
    "import pandas as pd\n",
    "import matplotlib.pyplot as plt\n",
    "import torchaudio\n",
    "import glob\n",
    "import math\n",
    "import torch.nn as nn\n",
    "import numpy as np\n",
    "from bisect import bisect_left\n",
    "import scipy as sp\n",
    "import h5py\n"
   ]
  },
  {
   "cell_type": "code",
   "execution_count": 45,
   "metadata": {},
   "outputs": [],
   "source": [
    "data_folder = \"../datasets/generated_dataset/\"\n",
    "device = 'cuda' if torch.cuda.is_available() else ('mps' if torch.backends.mps.is_available() else 'cpu')\n",
    "dropout = 0.1\n",
    "batch_size = 128\n",
    "fs = 16000\n",
    "\n",
    "max_shift = 500 # in samples\n",
    "guess_grid_size = max_shift\n",
    "\n",
    "#f = h5py.File(\"../datasets/generated_dataset/generated_dataset_easy.hdf5\",\"r\")\n",
    "#f = h5py.File(\"../datasets/generated_dataset/generated_dataset_medium.hdf5\",\"r\")\n",
    "#f = h5py.File(\"../datasets/generated_dataset/generated_dataset_hard.hdf5\",\"r\")\n",
    "f = h5py.File(\"../datasets/generated_dataset/generated_dataset_extreme.hdf5\",\"r\")\n",
    "#f = h5py.File(\"../datasets/generated_dataset/generated_dataset_real.hdf5\",\"r\")\n",
    "\n",
    "\n",
    "X = f['input']\n",
    "y = f['gt']\n",
    "\n",
    "# f_test = h5py.File(\"../datasets/generated_dataset/generated_dataset_valer.hdf5\",\"r\")\n",
    "# X_test = f_test['input']\n",
    "# y_test = f_test['gt']\n",
    "\n",
    "#X = torch.load(os.path.join(data_folder,\"input2.pt\"))\n",
    "#y = torch.load(os.path.join(data_folder,\"gt2.pt\"))\n",
    "#X_test = torch.load(os.path.join(data_folder,\"input.pt\"))\n",
    "#y_test = torch.load(os.path.join(data_folder,\"gt.pt\"))\n",
    "\n",
    "class custom_dataset(Dataset):\n",
    "\n",
    "    def __init__(self, X, y, idx_min=0,dataset_len=len(X)):\n",
    "        self.X = X\n",
    "        self.y = y\n",
    "        self.dataset_len = dataset_len\n",
    "        self.idx_min = idx_min\n",
    "\n",
    "    def __getitem__(self, idx):\n",
    "        return self.X[idx + self.idx_min],self.y[idx + self.idx_min]\n",
    "\n",
    "    def __len__(self):\n",
    "        return self.dataset_len\n",
    "\n",
    "split_i = int(X.shape[0]*0.98)\n",
    "dataset = custom_dataset(X,y, 0, split_i)\n",
    "#dataset_test = custom_dataset(X_test,y_test, 0 ,X_test.shape[0])\n",
    "dataset_test = custom_dataset(X,y, split_i, X.shape[0] - split_i)\n",
    "#dataset, dataset_test = torch.utils.data.random_split(dataset, [0.98,0.02])\n",
    "train_dl = DataLoader(dataset, batch_size=batch_size, shuffle=True)\n",
    "test_dl = DataLoader(dataset_test, batch_size=batch_size, shuffle=False)\n"
   ]
  },
  {
   "cell_type": "code",
   "execution_count": 54,
   "metadata": {},
   "outputs": [],
   "source": [
    "def augment_shift(X,y, common_shift=True):\n",
    "    X = torch.complex(X[:,0],X[:,1])\n",
    "\n",
    "    #augment 1, multiply each of the vectors with phase\n",
    "    \n",
    "\n",
    "    max_shift = 100 # number of samples to max_shift\n",
    "    sample_length = 10000\n",
    "\n",
    "\n",
    "    imag_unit = torch.complex(torch.tensor(0.0),torch.tensor(1.0))\n",
    "    if common_shift:\n",
    "        sample_shift = (torch.rand(X.shape[0],1,1)*2 - 1)*max_shift\n",
    "        phase_shift = (-sample_shift/sample_length*2*torch.pi*imag_unit*torch.arange(X.shape[1]).unsqueeze(1)).exp()\n",
    "        new_abf = X*phase_shift\n",
    "        X = torch.stack([torch.real(new_abf),torch.imag(new_abf)], dim=1)\n",
    "        \n",
    "    else:\n",
    "        sample_shift = (torch.rand(X.shape[0],1,2)*2 - 1)*max_shift\n",
    "        phase_shift = (-sample_shift/sample_length*2*torch.pi*imag_unit*torch.arange(X.shape[1]).unsqueeze(1)).exp()\n",
    "        new_abf = X*phase_shift\n",
    "        X = torch.stack([torch.real(new_abf),torch.imag(new_abf)], dim=1)\n",
    "        y = y + (sample_shift[:,:,0] - sample_shift[:,:,1]).to(int)\n",
    "    return (X,y)\n",
    "\n",
    "def augment_amp(X,y):\n",
    "    amp_max = 3\n",
    "    amp_min = 0.2\n",
    "    amp_change_factor = torch.rand(X.shape)*(amp_max - amp_min) + amp_min\n",
    "    X = X*amp_change_factor\n",
    "    return (X,y)\n"
   ]
  },
  {
   "cell_type": "markdown",
   "metadata": {},
   "source": [
    "# Single example test"
   ]
  },
  {
   "cell_type": "code",
   "execution_count": 55,
   "metadata": {},
   "outputs": [
    {
     "name": "stdout",
     "output_type": "stream",
     "text": [
      "tensor(-63)\n"
     ]
    },
    {
     "name": "stderr",
     "output_type": "stream",
     "text": [
      "/var/folders/m3/_f4v2b3d6yz294_hq5ftj83c0000gn/T/ipykernel_47235/3491225536.py:4: UserWarning: To copy construct from a tensor, it is recommended to use sourceTensor.clone().detach() or sourceTensor.clone().detach().requires_grad_(True), rather than torch.tensor(sourceTensor).\n",
      "  X = torch.tensor(X)\n"
     ]
    },
    {
     "data": {
      "text/plain": [
       "tensor([-63.6202])"
      ]
     },
     "execution_count": 55,
     "metadata": {},
     "output_type": "execute_result"
    },
    {
     "data": {
      "image/png": "[encoded data removed]",
      "text/plain": [
       "<Figure size 432x288 with 1 Axes>"
      ]
     },
     "metadata": {
      "needs_background": "light"
     },
     "output_type": "display_data"
    }
   ],
   "source": [
    "\n",
    "X,y = next(iter(train_dl))\n",
    "X,y = augment_shift(X,y)\n",
    "X,y = augment_amp(X,y)\n",
    "X = torch.tensor(X)\n",
    "X = torch.complex(X[:,0],X[:,1])\n",
    "\n",
    "i = 0\n",
    "c = X[i,:,0]*torch.conj(X[i,:,1])\n",
    "\n",
    "cc = torch.concatenate([c, torch.zeros(10000 - 2*c.shape[0]),torch.conj(c.flip(dims=(0,)))])\n",
    "cc = cc /( cc.abs() + 1e-8)\n",
    "\n",
    "f = torch.fft.ifft(cc)\n",
    "f = torch.real(f)\n",
    "\n",
    "\n",
    "plt.plot(f)\n",
    "w = f.argmax()\n",
    "\n",
    "if w > 1000:\n",
    "    w = w - len(f)\n",
    "print(w)\n",
    "y[i]"
   ]
  },
  {
   "cell_type": "markdown",
   "metadata": {},
   "source": [
    "# Histogram over dataset"
   ]
  },
  {
   "cell_type": "code",
   "execution_count": 48,
   "metadata": {},
   "outputs": [
    {
     "name": "stderr",
     "output_type": "stream",
     "text": [
      "/var/folders/m3/_f4v2b3d6yz294_hq5ftj83c0000gn/T/ipykernel_47235/3572009010.py:3: UserWarning: To copy construct from a tensor, it is recommended to use sourceTensor.clone().detach() or sourceTensor.clone().detach().requires_grad_(True), rather than torch.tensor(sourceTensor).\n",
      "  X = torch.tensor(X)\n"
     ]
    },
    {
     "name": "stdout",
     "output_type": "stream",
     "text": [
      "0.25 inliers\n"
     ]
    },
    {
     "data": {
      "image/png": "[encoded data removed]",
      "text/plain": [
       "<Figure size 432x288 with 1 Axes>"
      ]
     },
     "metadata": {
      "needs_background": "light"
     },
     "output_type": "display_data"
    }
   ],
   "source": [
    "res = []\n",
    "for X,y in train_dl:\n",
    "    X = torch.tensor(X)\n",
    "    X = torch.complex(X[:,0],X[:,1])\n",
    "\n",
    "    for i in range(X.shape[0]):\n",
    "        c = X[i,:,0]*torch.conj(X[i,:,1])\n",
    "\n",
    "        cc = torch.concatenate([c, torch.zeros(10000 - 2*c.shape[0]),torch.conj(c.flip(dims=(0,)))])\n",
    "        cc = cc /( cc.abs() + 1e-8)\n",
    "\n",
    "        f = torch.fft.ifft(cc)\n",
    "        f = torch.real(f)\n",
    "        w = f.argmax()\n",
    "\n",
    "        if w > 1000:\n",
    "            w = w - len(f)\n",
    "        res.append((y[i] - w).item())\n",
    "res = torch.tensor(res)        \n",
    "plt.hist(res, bins=50, range=(-50, 50));\n",
    "\n",
    "print(f'{(sum(res.abs() < 5)/res.shape[0]).item():.2f} inliers')"
   ]
  },
  {
   "cell_type": "code",
   "execution_count": 49,
   "metadata": {},
   "outputs": [
    {
     "data": {
      "text/plain": [
       "tensor([ 112.9738,  -51.3510,   -5.0027,  ..., -206.9700,   25.8791,\n",
       "          -1.0392])"
      ]
     },
     "execution_count": 49,
     "metadata": {},
     "output_type": "execute_result"
    }
   ],
   "source": [
    "res"
   ]
  }
 ],
 "metadata": {
  "kernelspec": {
   "display_name": "base",
   "language": "python",
   "name": "python3"
  },
  "language_info": {
   "codemirror_mode": {
    "name": "ipython",
    "version": 3
   },
   "file_extension": ".py",
   "mimetype": "text/x-python",
   "name": "python",
   "nbconvert_exporter": "python",
   "pygments_lexer": "ipython3",
   "version": "3.9.16"
  }
 },
 "nbformat": 4,
 "nbformat_minor": 2
}
