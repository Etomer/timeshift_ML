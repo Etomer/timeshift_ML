{
 "cells": [
  {
   "cell_type": "code",
   "execution_count": 1,
   "metadata": {},
   "outputs": [],
   "source": [
    "import torch\n",
    "import matplotlib.pyplot as plt\n",
    "from torch import nn\n",
    "from torch.utils.data import DataLoader\n",
    "from torchvision import datasets\n",
    "from torchvision.transforms import ToTensor\n",
    "import wandb\n",
    "\n"
   ]
  },
  {
   "cell_type": "code",
   "execution_count": 2,
   "metadata": {},
   "outputs": [
    {
     "name": "stderr",
     "output_type": "stream",
     "text": [
      "Failed to detect the name of this notebook, you can set it manually with the WANDB_NOTEBOOK_NAME environment variable to enable code saving.\n",
      "\u001b[34m\u001b[1mwandb\u001b[0m: Currently logged in as: \u001b[33merik-tegler\u001b[0m. Use \u001b[1m`wandb login --relogin`\u001b[0m to force relogin\n"
     ]
    },
    {
     "data": {
      "text/html": [
       "wandb version 0.16.0 is available!  To upgrade, please run:\n",
       " $ pip install wandb --upgrade"
      ],
      "text/plain": [
       "<IPython.core.display.HTML object>"
      ]
     },
     "metadata": {},
     "output_type": "display_data"
    },
    {
     "data": {
      "text/html": [
       "Tracking run with wandb version 0.15.8"
      ],
      "text/plain": [
       "<IPython.core.display.HTML object>"
      ]
     },
     "metadata": {},
     "output_type": "display_data"
    },
    {
     "data": {
      "text/html": [
       "Run data is saved locally in <code>/Users/eriktegler/phd_studies/Forskning/timeshift_ML/slask/wandb/run-20231204_085537-gmpjk43j</code>"
      ],
      "text/plain": [
       "<IPython.core.display.HTML object>"
      ]
     },
     "metadata": {},
     "output_type": "display_data"
    },
    {
     "data": {
      "text/html": [
       "Syncing run <strong><a href='https://wandb.ai/erik-tegler/timeshift_ML-slask/runs/gmpjk43j' target=\"_blank\">leafy-sponge-2</a></strong> to <a href='https://wandb.ai/erik-tegler/timeshift_ML-slask' target=\"_blank\">Weights & Biases</a> (<a href='https://wandb.me/run' target=\"_blank\">docs</a>)<br/>"
      ],
      "text/plain": [
       "<IPython.core.display.HTML object>"
      ]
     },
     "metadata": {},
     "output_type": "display_data"
    },
    {
     "data": {
      "text/html": [
       " View project at <a href='https://wandb.ai/erik-tegler/timeshift_ML-slask' target=\"_blank\">https://wandb.ai/erik-tegler/timeshift_ML-slask</a>"
      ],
      "text/plain": [
       "<IPython.core.display.HTML object>"
      ]
     },
     "metadata": {},
     "output_type": "display_data"
    },
    {
     "data": {
      "text/html": [
       " View run at <a href='https://wandb.ai/erik-tegler/timeshift_ML-slask/runs/gmpjk43j' target=\"_blank\">https://wandb.ai/erik-tegler/timeshift_ML-slask/runs/gmpjk43j</a>"
      ],
      "text/plain": [
       "<IPython.core.display.HTML object>"
      ]
     },
     "metadata": {},
     "output_type": "display_data"
    },
    {
     "data": {
      "text/html": [
       "<button onClick=\"this.nextSibling.style.display='block';this.style.display='none';\">Display W&B run</button><iframe src='https://wandb.ai/erik-tegler/timeshift_ML-slask/runs/gmpjk43j?jupyter=true' style='border:none;width:100%;height:420px;display:none;'></iframe>"
      ],
      "text/plain": [
       "<wandb.sdk.wandb_run.Run at 0x16e814400>"
      ]
     },
     "execution_count": 2,
     "metadata": {},
     "output_type": "execute_result"
    }
   ],
   "source": [
    "batch_size = 64\n",
    "epochs = 5\n",
    "\n",
    "wandb.init()\n",
    "\n"
   ]
  },
  {
   "cell_type": "code",
   "execution_count": 3,
   "metadata": {},
   "outputs": [],
   "source": [
    "# Download training data from open datasets.\n",
    "training_data = datasets.MNIST(\n",
    "    root=\"data\",\n",
    "    train=True,\n",
    "    download=True,\n",
    "    transform=ToTensor(),\n",
    ")\n",
    "\n",
    "# Download test data from open datasets.\n",
    "test_data = datasets.MNIST(\n",
    "    root=\"data\",\n",
    "    train=False,\n",
    "    download=True,\n",
    "    transform=ToTensor(),\n",
    ")"
   ]
  },
  {
   "cell_type": "code",
   "execution_count": 4,
   "metadata": {},
   "outputs": [
    {
     "data": {
      "text/plain": [
       "<matplotlib.image.AxesImage at 0x16e8fcaf0>"
      ]
     },
     "execution_count": 4,
     "metadata": {},
     "output_type": "execute_result"
    },
    {
     "data": {
      "image/png": "[encoded data removed]",
      "text/plain": [
       "<Figure size 432x288 with 1 Axes>"
      ]
     },
     "metadata": {
      "needs_background": "light"
     },
     "output_type": "display_data"
    }
   ],
   "source": [
    "#Demonstrate that we can display data\n",
    "indx = 2\n",
    "im = test_data[indx][0]\n",
    "im = im.squeeze()\n",
    "plt.imshow(im,cmap=\"gray\")"
   ]
  },
  {
   "cell_type": "code",
   "execution_count": 5,
   "metadata": {},
   "outputs": [
    {
     "name": "stdout",
     "output_type": "stream",
     "text": [
      "Shape of X [N, C, H, W]: torch.Size([64, 1, 28, 28])\n",
      "Shape of y: torch.Size([64]) torch.int64\n"
     ]
    }
   ],
   "source": [
    "\n",
    "\n",
    "# Create data loaders.\n",
    "train_dataloader = DataLoader(training_data, batch_size=batch_size)\n",
    "test_dataloader = DataLoader(test_data, batch_size=batch_size)\n",
    "\n",
    "for X, y in test_dataloader:\n",
    "    print(f\"Shape of X [N, C, H, W]: {X.shape}\")\n",
    "    print(f\"Shape of y: {y.shape} {y.dtype}\")\n",
    "    break"
   ]
  },
  {
   "cell_type": "code",
   "execution_count": 6,
   "metadata": {},
   "outputs": [
    {
     "name": "stdout",
     "output_type": "stream",
     "text": [
      "Using cpu device\n",
      "NeuralNetwork(\n",
      "  (linear_relu_stack1): Sequential(\n",
      "    (0): Conv2d(1, 8, kernel_size=(3, 3), stride=(2, 2))\n",
      "    (1): ReLU()\n",
      "    (2): Conv2d(8, 16, kernel_size=(3, 3), stride=(2, 2))\n",
      "    (3): ReLU()\n",
      "    (4): Conv2d(16, 32, kernel_size=(3, 3), stride=(2, 2))\n",
      "    (5): ReLU()\n",
      "  )\n",
      "  (flatten): Flatten(start_dim=1, end_dim=-1)\n",
      "  (linear_relu_stack2): Sequential(\n",
      "    (0): Linear(in_features=128, out_features=256, bias=True)\n",
      "    (1): ReLU()\n",
      "    (2): Linear(in_features=256, out_features=256, bias=True)\n",
      "    (3): ReLU()\n",
      "    (4): Linear(in_features=256, out_features=10, bias=True)\n",
      "  )\n",
      ")\n"
     ]
    }
   ],
   "source": [
    "# Get cpu or gpu device for training.\n",
    "device = \"cuda\" if torch.cuda.is_available() else \"cpu\"\n",
    "print(f\"Using {device} device\")\n",
    "\n",
    "# Define model\n",
    "class NeuralNetwork(nn.Module):\n",
    "    def __init__(self):\n",
    "        super(NeuralNetwork, self).__init__()\n",
    "        self.linear_relu_stack1 = nn.Sequential(\n",
    "        nn.Conv2d(1, 8, 3, stride=2),\n",
    "        nn.ReLU(),\n",
    "        nn.Conv2d(8, 16, 3, stride=2),\n",
    "        nn.ReLU(),\n",
    "        nn.Conv2d(16, 32, 3, stride=2),\n",
    "        nn.ReLU(),\n",
    "        )\n",
    "        self.flatten = nn.Flatten()\n",
    "        self.linear_relu_stack2 = nn.Sequential(\n",
    "            \n",
    "            nn.Linear(128, 256),\n",
    "            nn.ReLU(),\n",
    "            nn.Linear(256, 256),\n",
    "            nn.ReLU(),\n",
    "            nn.Linear(256, 10)\n",
    "        )\n",
    "\n",
    "    def forward(self, x):\n",
    "        x = self.linear_relu_stack1(x)\n",
    "        x = self.flatten(x)\n",
    "        logits = self.linear_relu_stack2(x)\n",
    "        return logits\n",
    "\n",
    "model = NeuralNetwork().to(device)\n",
    "print(model)"
   ]
  },
  {
   "cell_type": "code",
   "execution_count": null,
   "metadata": {},
   "outputs": [],
   "source": []
  },
  {
   "cell_type": "code",
   "execution_count": 7,
   "metadata": {},
   "outputs": [],
   "source": [
    "def train(dataloader, model, loss_fn, optimizer):\n",
    "    size = len(dataloader.dataset)\n",
    "    model.train()\n",
    "    for batch, (X, y) in enumerate(dataloader):\n",
    "        X, y = X.to(device), y.to(device)\n",
    "\n",
    "        # Compute prediction error\n",
    "        pred = model(X)\n",
    "        loss = loss_fn(pred, y)\n",
    "\n",
    "        # Backpropagation\n",
    "        optimizer.zero_grad()\n",
    "        loss.backward()\n",
    "        optimizer.step()\n",
    "\n",
    "        if batch % 100 == 0:\n",
    "            loss, current = loss.item(), batch * len(X)\n",
    "            print(f\"loss: {loss:>7f}  [{current:>5d}/{size:>5d}]\")\n",
    "            wandb.log({\"loss\": loss})"
   ]
  },
  {
   "cell_type": "code",
   "execution_count": 8,
   "metadata": {},
   "outputs": [],
   "source": [
    "def test(dataloader, model, loss_fn):\n",
    "    size = len(dataloader.dataset)\n",
    "    num_batches = len(dataloader)\n",
    "    model.eval()\n",
    "    test_loss, correct = 0, 0\n",
    "    with torch.no_grad():\n",
    "        for X, y in dataloader:\n",
    "            X, y = X.to(device), y.to(device)\n",
    "            pred = model(X)\n",
    "            test_loss += loss_fn(pred, y).item()\n",
    "            correct += (pred.argmax(1) == y).type(torch.float).sum().item()\n",
    "    test_loss /= num_batches\n",
    "    correct /= size\n",
    "    print(f\"Test Error: \\n Accuracy: {(100*correct):>0.1f}%, Avg loss: {test_loss:>8f} \\n\")"
   ]
  },
  {
   "cell_type": "code",
   "execution_count": 9,
   "metadata": {},
   "outputs": [
    {
     "name": "stdout",
     "output_type": "stream",
     "text": [
      "Epoch 1\n",
      "-------------------------------\n",
      "loss: 2.307638  [    0/60000]\n",
      "loss: 2.300092  [ 6400/60000]\n",
      "loss: 2.291222  [12800/60000]\n",
      "loss: 0.987057  [19200/60000]\n",
      "loss: 0.397507  [25600/60000]\n",
      "loss: 0.306346  [32000/60000]\n",
      "loss: 0.255680  [38400/60000]\n",
      "loss: 0.256674  [44800/60000]\n",
      "loss: 0.257445  [51200/60000]\n",
      "loss: 0.229398  [57600/60000]\n",
      "Test Error: \n",
      " Accuracy: 92.1%, Avg loss: 0.231748 \n",
      "\n",
      "Epoch 2\n",
      "-------------------------------\n",
      "loss: 0.180239  [    0/60000]\n",
      "loss: 0.128982  [ 6400/60000]\n",
      "loss: 0.102629  [12800/60000]\n",
      "loss: 0.281393  [19200/60000]\n",
      "loss: 0.075211  [25600/60000]\n",
      "loss: 0.089462  [32000/60000]\n",
      "loss: 0.090596  [38400/60000]\n",
      "loss: 0.160517  [44800/60000]\n",
      "loss: 0.208037  [51200/60000]\n",
      "loss: 0.121898  [57600/60000]\n",
      "Test Error: \n",
      " Accuracy: 96.1%, Avg loss: 0.124350 \n",
      "\n",
      "Epoch 3\n",
      "-------------------------------\n",
      "loss: 0.056557  [    0/60000]\n",
      "loss: 0.124348  [ 6400/60000]\n",
      "loss: 0.071332  [12800/60000]\n",
      "loss: 0.214767  [19200/60000]\n",
      "loss: 0.042347  [25600/60000]\n",
      "loss: 0.049662  [32000/60000]\n",
      "loss: 0.080401  [38400/60000]\n",
      "loss: 0.122264  [44800/60000]\n",
      "loss: 0.175186  [51200/60000]\n",
      "loss: 0.081230  [57600/60000]\n",
      "Test Error: \n",
      " Accuracy: 97.0%, Avg loss: 0.095459 \n",
      "\n",
      "Epoch 4\n",
      "-------------------------------\n",
      "loss: 0.033644  [    0/60000]\n",
      "loss: 0.112461  [ 6400/60000]\n",
      "loss: 0.092994  [12800/60000]\n",
      "loss: 0.156020  [19200/60000]\n",
      "loss: 0.042579  [25600/60000]\n",
      "loss: 0.048412  [32000/60000]\n",
      "loss: 0.063097  [38400/60000]\n",
      "loss: 0.091381  [44800/60000]\n",
      "loss: 0.170322  [51200/60000]\n",
      "loss: 0.061436  [57600/60000]\n",
      "Test Error: \n",
      " Accuracy: 97.4%, Avg loss: 0.086910 \n",
      "\n",
      "Epoch 5\n",
      "-------------------------------\n",
      "loss: 0.024771  [    0/60000]\n",
      "loss: 0.104384  [ 6400/60000]\n",
      "loss: 0.097829  [12800/60000]\n",
      "loss: 0.051513  [19200/60000]\n",
      "loss: 0.055733  [25600/60000]\n",
      "loss: 0.024823  [32000/60000]\n",
      "loss: 0.052305  [38400/60000]\n",
      "loss: 0.085788  [44800/60000]\n",
      "loss: 0.148062  [51200/60000]\n",
      "loss: 0.048386  [57600/60000]\n",
      "Test Error: \n",
      " Accuracy: 97.4%, Avg loss: 0.089475 \n",
      "\n",
      "Done!\n"
     ]
    }
   ],
   "source": [
    "wandb.watch(model, log_freq=1)\n",
    "loss_fn = nn.CrossEntropyLoss() # What loss function to use for the output of the network\n",
    "optimizer = torch.optim.SGD(model.parameters(), lr=1e-1) # What method to use for local optimization of the network, currently stochastic gradient descent\n",
    "for t in range(epochs):\n",
    "    print(f\"Epoch {t+1}\\n-------------------------------\")\n",
    "    train(train_dataloader, model, loss_fn, optimizer)\n",
    "    test(test_dataloader, model, loss_fn)\n",
    "print(\"Done!\")"
   ]
  },
  {
   "cell_type": "code",
   "execution_count": null,
   "metadata": {},
   "outputs": [],
   "source": []
  }
 ],
 "metadata": {
  "kernelspec": {
   "display_name": "base",
   "language": "python",
   "name": "python3"
  },
  "language_info": {
   "codemirror_mode": {
    "name": "ipython",
    "version": 3
   },
   "file_extension": ".py",
   "mimetype": "text/x-python",
   "name": "python",
   "nbconvert_exporter": "python",
   "pygments_lexer": "ipython3",
   "version": "3.9.16"
  }
 },
 "nbformat": 4,
 "nbformat_minor": 2
}
