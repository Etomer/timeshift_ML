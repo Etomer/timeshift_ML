{
 "cells": [
  {
   "cell_type": "code",
   "execution_count": 1,
   "metadata": {},
   "outputs": [],
   "source": [
    "import numpy as np\n",
    "import matplotlib.pyplot as plt\n",
    "from scipy.io import wavfile\n",
    "from scipy.signal import fftconvolve\n",
    "import IPython\n",
    "import pyroomacoustics as pra\n",
    "from glob import glob\n",
    "import scipy as sp\n",
    "import torch\n",
    "import h5py\n"
   ]
  },
  {
   "cell_type": "code",
   "execution_count": 81,
   "metadata": {},
   "outputs": [],
   "source": [
    "batch_simulate_at_same_locations = 25\n",
    "\n",
    "\n",
    "\n",
    "# constants\n",
    "sample_length = 10000\n",
    "extra_bit = 1000\n",
    "\n",
    "reflection_coeff = 0.5\n",
    "scatter_coeff = 0.15\n",
    "\n",
    "speed_of_sound = 343\n",
    "\n",
    "\n",
    "fs = 16000\n",
    "max_freq = 4000\n",
    "max_freq_component_to_use = int(max_freq/(fs/sample_length))\n",
    "\n"
   ]
  },
  {
   "cell_type": "code",
   "execution_count": 128,
   "metadata": {},
   "outputs": [],
   "source": [
    "\n",
    "n_rooms = 20\n",
    "n_mics = 50 \n",
    "rir_len = 1600\n",
    "\n",
    "fs = 16000\n",
    "\n",
    "# X = np.zeros((n_rooms,n_mics,rir_len))\n",
    "# Y = np.zeros((n_rooms,n_mics))\n",
    "\n",
    "with h5py.File(\"../datasets/generated_dataset/new_type_dataset_medium.hdf5\",\"w\") as hdf5_file:\n",
    "    X = hdf5_file.create_dataset(\"input\", (n_rooms,n_mics,rir_len), dtype=\"f\")\n",
    "    Y = hdf5_file.create_dataset(\"gt\", (n_rooms,n_mics), dtype=\"f\")\n",
    "    \n",
    "\n",
    "\n",
    "\n",
    "\n",
    "    for room_i in range(n_rooms):\n",
    "        # randomly generate a rectangular cuboid\n",
    "        x,y,z = 9*np.random.rand(3) + 1\n",
    "        corners = np.array([[0,0], [0,y], [x,y], [x,0]]).T \n",
    "        room = pra.Room.from_corners(corners, fs=fs, max_order=2, materials=pra.Material(reflection_coeff, scatter_coeff), ray_tracing=True, air_absorption=True)\n",
    "        room.extrude(z, materials=pra.Material(reflection_coeff, scatter_coeff))\n",
    "        room.set_ray_tracing(receiver_radius=0.2, n_rays=10000, energy_thres=1e-5)\n",
    "\n",
    "        #add sender and receivers to room\n",
    "        random_point_in_room = lambda : np.random.rand(3)*[x,y,z]\n",
    "        sender_position = random_point_in_room()\n",
    "        room.add_source(sender_position)\n",
    "        R = np.array(np.stack([random_point_in_room() for i in range(n_mics)]).T)\n",
    "        room.add_microphone(R)\n",
    "        \n",
    "        # compute image sources for reflections\n",
    "        room.image_source_model()\n",
    "        room.compute_rir()\n",
    "\n",
    "        for mic_i in range(n_mics):\n",
    "            if len(room.rir[mic_i][0]) > rir_len:\n",
    "                X[room_i,mic_i] = room.rir[mic_i][0][:rir_len]\n",
    "                Y[room_i,mic_i] = np.linalg.norm(sender_position - R[:,mic_i])\n",
    "            else:\n",
    "                X[room_i,mic_i,:len(room.rir[mic_i][0])] = room.rir[mic_i][0]\n",
    "                Y[room_i,mic_i] = np.linalg.norm(sender_position - R[:,mic_i])\n",
    "            "
   ]
  },
  {
   "cell_type": "code",
   "execution_count": 377,
   "metadata": {},
   "outputs": [],
   "source": [
    "max_freq = int(4000 * sample_length/fs)\n",
    "\n",
    "f =  h5py.File(\"../datasets/generated_dataset/new_type_dataset_medium.hdf5\",\"r\")\n",
    "\n",
    "Xall = f[\"input\"]\n",
    "yall = f[\"gt\"]\n",
    "\n",
    "\n",
    "rooms_per_batch = 8\n",
    "mics_per_batch = 17 # pick odd number\n",
    "X = Xall[2:2+rooms_per_batch,:mics_per_batch,:]\n",
    "\n",
    "\n",
    "y = torch.tensor(yall[2:2+rooms_per_batch,:mics_per_batch])\n",
    "X = torch.tensor(X).to(\"cpu\")\n",
    "\n",
    "#pull a random sound\n",
    "sound_paths = glob(\"../datasets/reference_sounds/*.wav\")\n",
    "sound_path = sound_paths[np.random.randint(len(sound_paths))]\n",
    "fs,signal = wavfile.read(sound_path)\n",
    "start = np.random.randint(0,len(signal) - sample_length - rir_len-1, rooms_per_batch)\n",
    "# simulate longer sound and then cut to the relevant piece\n",
    "signals = np.zeros((rooms_per_batch, sample_length + rir_len-1))\n",
    "for i in range(rooms_per_batch):\n",
    "    signals[i,:] = signal[start[i]:start[i]  + sample_length + rir_len-1]\n",
    "signals = torch.tensor(signals).to(torch.float32).to(\"cpu\").unsqueeze(1)\n",
    "\n",
    "\n",
    "#plt.plot(np.convolve(X[0],signal))\n",
    "#plt.plot(signal + 2*max(signal))\n",
    "\n",
    "#torch.nn.functional.conv1d(signal.unsqueeze(1),X.unsqueeze(1))\n",
    "#ex1 = torch.fft.rfft(torch.concatenate([torch.zeros(rir_len),torch.ones(sample_length),torch.zeros(rir_len)]))*torch.fft.rfft(X,signal.shape[1]) * torch.fft.rfft(signal)\n",
    "\n",
    "\n",
    "q = torch.fft.rfft(torch.fft.irfft(torch.fft.rfft(signals)*torch.fft.rfft(X,signals.shape[1]))[:,:,:sample_length])[:,:,:max_freq]\n",
    "q = torch.concatenate([torch.concatenate([q,q.roll(i+1, 1)], dim=2) for i in range(mics_per_batch // 2)],dim=1)\n",
    "q = q.view(rooms_per_batch*(mics_per_batch*(mics_per_batch - 1 ))//2, -1)\n",
    "q = torch.concatenate([q.real,q.imag],dim=1)\n",
    "y = torch.concatenate([y - y.roll(i+1,1) for i in range(mics_per_batch//2)],dim=1).view(-1).shape\n",
    "\n",
    "#q = q.repeat(mics_per_batch-1,1,1,1)\n",
    "\n",
    "\n",
    "#signals.shape\n",
    "#X.shape\n",
    "#ex2 = torch.fft.rfft(torch.nn.functional.conv1d(signals,X.view(rooms_per_batch*mics_per_batch,-1)))[:,:,:max_freq]\n",
    "\n",
    "\n",
    "# (y.unsqueeze(0) - y.unsqueeze(1))\n",
    "\n",
    "# ex2.shape "
   ]
  },
  {
   "cell_type": "code",
   "execution_count": 83,
   "metadata": {},
   "outputs": [
    {
     "data": {
      "text/plain": [
       "(1.0, 500.0)"
      ]
     },
     "execution_count": 83,
     "metadata": {},
     "output_type": "execute_result"
    },
    {
     "data": {
      "image/png": "[encoded data removed]",
      "text/plain": [
       "<Figure size 432x288 with 2 Axes>"
      ]
     },
     "metadata": {
      "needs_background": "light"
     },
     "output_type": "display_data"
    }
   ],
   "source": [
    "\n",
    "\n",
    "\n",
    "room.plot_rir()\n",
    "room.rir[0][0].shape\n",
    "plt.xlim(1,500)"
   ]
  },
  {
   "cell_type": "code",
   "execution_count": 84,
   "metadata": {},
   "outputs": [
    {
     "data": {
      "text/plain": [
       "304"
      ]
     },
     "execution_count": 84,
     "metadata": {},
     "output_type": "execute_result"
    },
    {
     "data": {
      "image/png": "[encoded data removed]",
      "text/plain": [
       "<Figure size 432x288 with 1 Axes>"
      ]
     },
     "metadata": {
      "needs_background": "light"
     },
     "output_type": "display_data"
    }
   ],
   "source": [
    "plt.plot(np.abs(room.rir[0][0]),'.')\n",
    "plt.xlim(0,3200)\n",
    "np.argmax(np.abs(room.rir[0][0]) > 1e-2)"
   ]
  },
  {
   "cell_type": "code",
   "execution_count": 61,
   "metadata": {},
   "outputs": [],
   "source": [
    "s = np.convolve(signal,room.rir[0][0])\n",
    "#signal.\n",
    "\n"
   ]
  },
  {
   "cell_type": "code",
   "execution_count": 67,
   "metadata": {},
   "outputs": [
    {
     "data": {
      "text/plain": [
       "(17937,)"
      ]
     },
     "execution_count": 67,
     "metadata": {},
     "output_type": "execute_result"
    }
   ],
   "source": [
    "sp.fft.fft(room.rir[0][0])"
   ]
  },
  {
   "cell_type": "code",
   "execution_count": 57,
   "metadata": {},
   "outputs": [],
   "source": [
    "\n",
    "#simulate room\n",
    "room.simulate()"
   ]
  },
  {
   "cell_type": "code",
   "execution_count": 65,
   "metadata": {},
   "outputs": [
    {
     "data": {
      "text/plain": [
       "[<matplotlib.lines.Line2D at 0x28353a460>]"
      ]
     },
     "execution_count": 65,
     "metadata": {},
     "output_type": "execute_result"
    },
    {
     "data": {
      "image/png": "[encoded data removed]",
      "text/plain": [
       "<Figure size 432x288 with 1 Axes>"
      ]
     },
     "metadata": {
      "needs_background": "light"
     },
     "output_type": "display_data"
    }
   ],
   "source": [
    "#plt.plot(room.mic_array.signals[0])"
   ]
  }
 ],
 "metadata": {
  "kernelspec": {
   "display_name": "base",
   "language": "python",
   "name": "python3"
  },
  "language_info": {
   "codemirror_mode": {
    "name": "ipython",
    "version": 3
   },
   "file_extension": ".py",
   "mimetype": "text/x-python",
   "name": "python",
   "nbconvert_exporter": "python",
   "pygments_lexer": "ipython3",
   "version": "3.9.16"
  }
 },
 "nbformat": 4,
 "nbformat_minor": 2
}
