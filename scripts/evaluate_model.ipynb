{
 "cells": [
  {
   "cell_type": "code",
   "execution_count": 1,
   "metadata": {},
   "outputs": [],
   "source": [
    "import torch\n",
    "from torch.utils.data import Dataset, DataLoader\n",
    "import scipy.io.wavfile as wav\n",
    "import os\n",
    "import pandas as pd\n",
    "import matplotlib.pyplot as plt\n",
    "import torchaudio\n",
    "import glob\n",
    "import math\n",
    "import torch.nn as nn\n",
    "import numpy as np\n",
    "from bisect import bisect_left\n",
    "import scipy as sp\n",
    "import h5py\n",
    "from scipy.io import wavfile\n",
    "from glob import glob\n",
    "\n",
    "import sys\n",
    "import importlib\n",
    "import json"
   ]
  },
  {
   "cell_type": "code",
   "execution_count": 71,
   "metadata": {},
   "outputs": [],
   "source": [
    "# Settings --------------------------------------\n",
    "dataset_path = \"../data/datasets/impulse_response_medium_evaluation.hdf5\"\n",
    "\n",
    "model_folder = \"../runs/gallant-waterfall-89/\"\n",
    "checkpoint = \"gallant-waterfall-89_400.pth\"#new_type_dataset_medium_astral-shadow-62_900.pth\" #False\n",
    "\n",
    "# model_folder = \"../runs/non_wandb/\"\n",
    "# checkpoint = \"not_logged_0.pth\" #False\n",
    "\n",
    "# model_folder = \"../runs/gcc_phat/\"\n",
    "# checkpoint = False\n",
    "\n",
    "batch_size = 100 # just needed to make computation smooth\n",
    "device = \"cpu\"#'cuda:1' if torch.cuda.is_available() else ('mps' if torch.backends.mps.is_available() else 'cpu')\n",
    "reference_sound_folder = '../data/reference_data/reference_sounds/'\n",
    "#-------------------------------------------------\n"
   ]
  },
  {
   "cell_type": "markdown",
   "metadata": {},
   "source": [
    "# Load model"
   ]
  },
  {
   "cell_type": "code",
   "execution_count": 72,
   "metadata": {},
   "outputs": [],
   "source": [
    "class Classifier(nn.Module):\n",
    "\n",
    "    def __init__(self):\n",
    "        super().__init__()\n",
    "        \n",
    "        self.thinker = nn.Sequential(\n",
    "            nn.Flatten(),\n",
    "            nn.Dropout(config[\"dropout\"]),\n",
    "            nn.Linear(config[\"factor\"]*config[\"cnn_output_size_at_factor_1\"],1000),\n",
    "            nn.GELU(),\n",
    "            #Block(1000),\n",
    "            #Block(1000),\n",
    "            nn.Linear(1000,config[\"guess_grid_size\"])\n",
    "        )\n",
    "        \n",
    "        self.apply(self._init_weights)\n",
    "        \n",
    "        self.cnn = nn.Sequential(\n",
    "            nn.Conv1d(4,48*config[\"factor\"], 50,stride=5),\n",
    "            nn.GELU(),\n",
    "            nn.Conv1d(48*config[\"factor\"],48*config[\"factor\"], 50,stride=5),\n",
    "            nn.GELU(),\n",
    "            nn.Conv1d(48*config[\"factor\"],48*config[\"factor\"], 30,stride=5),\n",
    "            nn.GELU(),\n",
    "            nn.Flatten(),\n",
    "        )\n",
    "        \n",
    "        \n",
    "        \n",
    "\n",
    "    def _init_weights(self, module):\n",
    "        if isinstance(module, nn.Linear):\n",
    "            torch.nn.init.normal_(module.weight, mean=0.0, std=0.00002)\n",
    "            if module.bias is not None:\n",
    "                torch.nn.init.zeros_(module.bias)\n",
    "        elif isinstance(module, nn.Embedding):\n",
    "            torch.nn.init.normal_(module.weight, mean=0.0, std=0.00002)\n",
    "        \n",
    "                \n",
    "    def forward(self, x):\n",
    "        x = self.cnn(x)\n",
    "        x = self.thinker(x)\n",
    "        return x\n",
    "\n",
    "config = json.load(open(os.path.join(model_folder,\"config.json\"),'r'))\n",
    "\n",
    "sys.path.append(model_folder)\n",
    "model_file = importlib.import_module((config[\"model\"]))\n",
    "\n",
    "model = model_file.model(config)\n",
    "if checkpoint:\n",
    "    model = torch.load(os.path.join(model_folder,\"checkpoints\",checkpoint), map_location=device)\n",
    "    model.eval() # regression on dropout is not great"
   ]
  },
  {
   "cell_type": "code",
   "execution_count": 4,
   "metadata": {},
   "outputs": [
    {
     "name": "stdout",
     "output_type": "stream",
     "text": [
      "Inlier ratio (< ~15 cm) : 0.88\n"
     ]
    }
   ],
   "source": [
    "with h5py.File(dataset_path, 'r') as hdf5_file:\n",
    "\n",
    "    X = hdf5_file[\"input\"]\n",
    "    y = hdf5_file[\"gt\"]\n",
    "\n",
    "    class custom_dataset(Dataset):\n",
    "\n",
    "        def __init__(self, X, y, idx_min=0,dataset_len=len(X)):\n",
    "            self.X = X\n",
    "            self.y = y\n",
    "            self.dataset_len = dataset_len\n",
    "            self.idx_min = idx_min\n",
    "\n",
    "        def __getitem__(self, idx):\n",
    "\n",
    "            mics_idx = torch.randperm(X.shape[1])[:config[\"mics_per_batch\"]].sort()[0] # sorting because hdf5 requires it\n",
    "            return self.X[idx + self.idx_min, mics_idx],self.y[idx + self.idx_min, mics_idx]\n",
    "\n",
    "        def __len__(self):\n",
    "            return self.dataset_len\n",
    "\n",
    "    # package datasets\n",
    "    \n",
    "    dataset = custom_dataset(X,y)\n",
    "    \n",
    "    dataloader = DataLoader(dataset, batch_size=batch_size, shuffle=False)\n",
    "\n",
    "    def y_to_class_gt(y, guess_grid_size, max_shift) :\n",
    "        y[y.abs() > max_shift] = max_shift*y[y.abs() > max_shift].sign()\n",
    "\n",
    "        bin_width = max_shift*2/guess_grid_size\n",
    "        y = (y/bin_width).round() + guess_grid_size // 2 \n",
    "        y[y == guess_grid_size] = guess_grid_size - 1\n",
    "        return y.long()\n",
    "\n",
    "\n",
    "    def format_simulated_data(X,y):\n",
    "        \"\"\"\n",
    "        transform a tensor of impulse responses in different rooms into pairwise TimeEstimation-problems. Note (X and y should be on GPU)\n",
    "\n",
    "        \"\"\"\n",
    "        #pull a random sound\n",
    "        sound_paths = glob(os.path.join(reference_sound_folder, \"*.wav\"))\n",
    "        sound_path = sound_paths[np.random.randint(len(sound_paths))]\n",
    "        fs,signal = wavfile.read(sound_path)\n",
    "        start = np.random.randint(0,len(signal) - config[\"sample_length\"] - config[\"rir_len\"]-1, X.shape[0])\n",
    "        # simulate longer sound and then cut to the relevant piece\n",
    "        signals = np.zeros((X.shape[0], config[\"sample_length\"] + config[\"rir_len\"]-1))\n",
    "        for i in range(X.shape[0]):\n",
    "            signals[i,:] = signal[start[i]:start[i]  + config[\"sample_length\"] + config[\"rir_len\"]-1]\n",
    "        #signals = torch.tensor(signals).to(torch.float32).to(device).unsqueeze(1)\n",
    "        signals = torch.tensor(signals).to(torch.float32).unsqueeze(1)\n",
    "\n",
    "        q = torch.fft.irfft(torch.fft.rfft(signals)*torch.fft.rfft(X,signals.shape[2]))[:,:,:config[\"sample_length\"]] # compute the heard sound, and cut it to the right length\n",
    "        q = torch.fft.rfft(q)[:,:,:config[\"max_freq\"]] # cut frequencies which are too high\n",
    "        q = q.unsqueeze(2)\n",
    "        q = torch.concatenate([torch.concatenate([q,q.roll(i+1, 1)], dim=2) for i in range(config[\"mics_per_batch\"] // 2)],dim=1) # organize sounds pairwise\n",
    "        q = q.view(X.shape[0]*(config[\"mics_per_batch\"]*(config[\"mics_per_batch\"] - 1 ))//2, 2,-1) # reshape so that each example is a row\n",
    "        X = torch.concatenate([q.real,q.imag],dim=1)\n",
    "        y = torch.concatenate([y - y.roll(i+1,1) for i in range(config[\"mics_per_batch\"]//2)],dim=1).view(-1)*fs/343 # compute gt for all pairs\n",
    "        y = y_to_class_gt(y, config[\"guess_grid_size\"], config[\"max_shift\"]).to(torch.long)\n",
    "        \n",
    "        return X,y\n",
    "\n",
    "\n",
    "  \n",
    "    preds = []\n",
    "    ys = []\n",
    "    with torch.no_grad():\n",
    "        print_loss = 0\n",
    "        counter = 0\n",
    "        for batch, (X,y) in enumerate(dataloader):\n",
    "            \n",
    "            # Compute prediction error\n",
    "            X,y = format_simulated_data(X,y)\n",
    "            Xsim = X\n",
    "            X = X.to(device)\n",
    "            y = y.to(device)\n",
    "            pred = model(X)\n",
    "            preds.append(pred)\n",
    "            ys.append(y)\n",
    "\n",
    "    preds = torch.concatenate(preds, dim=0)\n",
    "    ys = torch.concatenate(ys, dim=0)\n",
    "                        \n",
    "    preds = preds.to(\"cpu\")\n",
    "    ys = ys.to(\"cpu\")\n",
    "\n",
    "\n",
    "\n",
    "    \n",
    "res = preds.argmax(dim=1) - ys\n",
    "\n",
    "print(f'Inlier ratio (< ~15 cm) : {((res.abs() < 2).sum()/res.numel()).item():.2f}')\n"
   ]
  },
  {
   "cell_type": "code",
   "execution_count": null,
   "metadata": {},
   "outputs": [],
   "source": []
  },
  {
   "cell_type": "code",
   "execution_count": 5,
   "metadata": {},
   "outputs": [
    {
     "name": "stdout",
     "output_type": "stream",
     "text": [
      "Inlier ratio (< ~15 cm) : 0.25\n"
     ]
    }
   ],
   "source": [
    "with h5py.File(\"../data/datasets/paired_fft_music_0014_evaluation.hdf5\", 'r') as hdf5_file:\n",
    "\n",
    "    X = hdf5_file[\"input\"]\n",
    "    y = hdf5_file[\"gt\"]\n",
    "\n",
    "    class paired_fft_dataset(Dataset):\n",
    "\n",
    "        def __init__(self, X, y, idx_min=0,dataset_len=len(X)):\n",
    "            self.X = X\n",
    "            self.y = y\n",
    "            self.dataset_len = dataset_len\n",
    "            self.idx_min = idx_min\n",
    "\n",
    "        def __getitem__(self, idx):\n",
    "\n",
    "            #mics_idx = torch.randperm(X.shape[1])[:config[\"mics_per_batch\"]].sort()[0] # sorting because hdf5 requires it\n",
    "            return self.X[idx + self.idx_min],self.y[idx + self.idx_min]\n",
    "\n",
    "        def __len__(self):\n",
    "            return self.dataset_len\n",
    "\n",
    "    # package datasets\n",
    "    \n",
    "    dataset = paired_fft_dataset(X,y)\n",
    "    \n",
    "    dataloader = DataLoader(dataset, batch_size=batch_size, shuffle=False)\n",
    "\n",
    "    def y_to_class_gt(y, guess_grid_size, max_shift) :\n",
    "        y[y.abs() > max_shift] = max_shift*y[y.abs() > max_shift].sign()\n",
    "\n",
    "        bin_width = max_shift*2/guess_grid_size\n",
    "        y = (y/bin_width).round() + guess_grid_size // 2 \n",
    "        y[y == guess_grid_size] = guess_grid_size - 1\n",
    "        return y.long()\n",
    "\n",
    " \n",
    "    preds = []\n",
    "    ys = []\n",
    "    with torch.no_grad():\n",
    "        print_loss = 0\n",
    "        counter = 0\n",
    "        for batch, (X,y) in enumerate(dataloader):\n",
    "            \n",
    "            # Compute prediction error\n",
    "            #X,y = format_simulated_data(X,y)\n",
    "            Xreal = X\n",
    "            y = y_to_class_gt(y*16000/343, config[\"guess_grid_size\"], config[\"max_shift\"]).to(torch.long)\n",
    "            X = X.to(device)\n",
    "            y = y.to(device)\n",
    "            X = X/4e4\n",
    "            X[:,:,:50] = 0\n",
    "            #X = X*torch.tensor(rescale)/torch.tensor(rescale_target)\n",
    "            pred = model(X)\n",
    "            preds.append(pred)\n",
    "            ys.append(y)\n",
    "\n",
    "    preds = torch.concatenate(preds, dim=0)\n",
    "    ys = torch.concatenate(ys, dim=0)\n",
    "                        \n",
    "    preds = preds.to(\"cpu\")\n",
    "    ys = ys.to(\"cpu\")\n",
    "\n",
    "\n",
    "\n",
    "    \n",
    "res = preds.argmax(dim=1) - ys\n",
    "\n",
    "print(f'Inlier ratio (< ~15 cm) : {((res.abs() < 2).sum()/res.numel()).item():.2f}')\n"
   ]
  },
  {
   "cell_type": "code",
   "execution_count": 6,
   "metadata": {},
   "outputs": [
    {
     "data": {
      "text/plain": [
       "(array([1452., 1694.,  847.,  487.,  258.,  139.,   90.,   59.,   33.,\n",
       "          33.]),\n",
       " array([0.05256392, 0.1472975 , 0.24203108, 0.33676466, 0.43149826,\n",
       "        0.52623183, 0.62096542, 0.71569902, 0.81043255, 0.90516615,\n",
       "        0.99989974]),\n",
       " <BarContainer object of 10 artists>)"
      ]
     },
     "execution_count": 6,
     "metadata": {},
     "output_type": "execute_result"
    },
    {
     "data": {
      "image/png": "[encoded data removed]",
      "text/plain": [
       "<Figure size 432x288 with 1 Axes>"
      ]
     },
     "metadata": {
      "needs_background": "light"
     },
     "output_type": "display_data"
    },
    {
     "data": {
      "image/png": "[encoded data removed]",
      "text/plain": [
       "<Figure size 432x288 with 1 Axes>"
      ]
     },
     "metadata": {
      "needs_background": "light"
     },
     "output_type": "display_data"
    },
    {
     "data": {
      "image/png": "[encoded data removed]",
      "text/plain": [
       "<Figure size 432x288 with 1 Axes>"
      ]
     },
     "metadata": {
      "needs_background": "light"
     },
     "output_type": "display_data"
    },
    {
     "data": {
      "image/png": "[encoded data removed]",
      "text/plain": [
       "<Figure size 432x288 with 1 Axes>"
      ]
     },
     "metadata": {
      "needs_background": "light"
     },
     "output_type": "display_data"
    }
   ],
   "source": [
    "plt.hist(preds.argmax(dim=1)[res.abs() < 2],30,range=(0,100));\n",
    "\n",
    "plt.figure()\n",
    "plt.hist(preds.argmax(dim=1)[res.abs() > 2],30,range=(0,100));\n",
    "\n",
    "plt.figure()\n",
    "#plt.hist(ys[res.abs() < 2],30,range=(0,100));\n",
    "#plt.xlim(0,100)\n",
    "#plt.figure()\n",
    "plt.hist(ys[res.abs() > 2],30,range=(0,100));\n",
    "\n",
    "plt.figure();\n",
    "plt.hist(preds[res.abs() < 2].softmax(dim=1).max(dim=1)[0])\n",
    "plt.hist(preds[res.abs() > 2].softmax(dim=1).max(dim=1)[0])"
   ]
  },
  {
   "cell_type": "code",
   "execution_count": 7,
   "metadata": {},
   "outputs": [
    {
     "data": {
      "text/plain": [
       "[<matplotlib.lines.Line2D at 0x29ffa2a60>]"
      ]
     },
     "execution_count": 7,
     "metadata": {},
     "output_type": "execute_result"
    },
    {
     "data": {
      "image/png": "[encoded data removed]",
      "text/plain": [
       "<Figure size 432x288 with 1 Axes>"
      ]
     },
     "metadata": {
      "needs_background": "light"
     },
     "output_type": "display_data"
    }
   ],
   "source": [
    "plt.plot(preds[308].softmax(0))"
   ]
  },
  {
   "cell_type": "code",
   "execution_count": 8,
   "metadata": {},
   "outputs": [
    {
     "name": "stdout",
     "output_type": "stream",
     "text": [
      "tensor(4.4698e+09)\n",
      "tensor(96410.0156)\n"
     ]
    },
    {
     "ename": "NameError",
     "evalue": "name 'rescale' is not defined",
     "output_type": "error",
     "traceback": [
      "\u001b[0;31m---------------------------------------------------------------------------\u001b[0m",
      "\u001b[0;31mNameError\u001b[0m                                 Traceback (most recent call last)",
      "Input \u001b[0;32mIn [8]\u001b[0m, in \u001b[0;36m<cell line: 10>\u001b[0;34m()\u001b[0m\n\u001b[1;32m      7\u001b[0m i \u001b[38;5;241m=\u001b[39m np\u001b[38;5;241m.\u001b[39mrandom\u001b[38;5;241m.\u001b[39mrandint(\u001b[38;5;241m50\u001b[39m)\n\u001b[1;32m      8\u001b[0m plt\u001b[38;5;241m.\u001b[39mplot(Xreal[i,\u001b[38;5;241m0\u001b[39m]\u001b[38;5;241m.\u001b[39mabs())\n\u001b[0;32m---> 10\u001b[0m (torch\u001b[38;5;241m.\u001b[39mtensor(\u001b[43mrescale\u001b[49m)\u001b[38;5;241m*\u001b[39mXreal[i,\u001b[38;5;241m0\u001b[39m]\u001b[38;5;241m/\u001b[39mtorch\u001b[38;5;241m.\u001b[39mtensor(rescale_target))\u001b[38;5;241m.\u001b[39mabs()\n",
      "\u001b[0;31mNameError\u001b[0m: name 'rescale' is not defined"
     ]
    },
    {
     "data": {
      "image/png": "[encoded data removed]",
      "text/plain": [
       "<Figure size 432x288 with 1 Axes>"
      ]
     },
     "metadata": {
      "needs_background": "light"
     },
     "output_type": "display_data"
    },
    {
     "data": {
      "image/png": "[encoded data removed]",
      "text/plain": [
       "<Figure size 432x288 with 1 Axes>"
      ]
     },
     "metadata": {
      "needs_background": "light"
     },
     "output_type": "display_data"
    }
   ],
   "source": [
    "print(Xreal.std(2).mean(1).median())\n",
    "print(Xsim.std(2).mean(1).median())\n",
    "\n",
    "i = np.random.randint(300)\n",
    "plt.plot(Xsim[i,0].abs())\n",
    "plt.figure()\n",
    "i = np.random.randint(50)\n",
    "plt.plot(Xreal[i,0].abs())\n",
    "\n",
    "(torch.tensor(rescale)*Xreal[i,0]/torch.tensor(rescale_target)).abs()"
   ]
  },
  {
   "cell_type": "code",
   "execution_count": null,
   "metadata": {},
   "outputs": [
    {
     "data": {
      "text/plain": [
       "[<matplotlib.lines.Line2D at 0x2abfbd7c0>]"
      ]
     },
     "execution_count": 143,
     "metadata": {},
     "output_type": "execute_result"
    },
    {
     "data": {
      "image/png": "[encoded data removed]",
      "text/plain": [
       "<Figure size 432x288 with 1 Axes>"
      ]
     },
     "metadata": {
      "needs_background": "light"
     },
     "output_type": "display_data"
    }
   ],
   "source": [
    "\n",
    "rescale = 1/sp.ndimage.gaussian_filter1d(Xreal.abs().sum(1).sum(0),50)\n",
    "rescale /= rescale.mean()\n",
    "\n",
    "rescale_target = 1/sp.ndimage.gaussian_filter1d(Xsim.abs().sum(1).sum(0),50)\n",
    "rescale_target /= rescale_target.mean()\n",
    "\n",
    "plt.plot(rescale)\n",
    "plt.plot(rescale_target)"
   ]
  },
  {
   "cell_type": "code",
   "execution_count": null,
   "metadata": {},
   "outputs": [
    {
     "data": {
      "text/plain": [
       "[<matplotlib.lines.Line2D at 0x2a7c32220>]"
      ]
     },
     "execution_count": 71,
     "metadata": {},
     "output_type": "execute_result"
    },
    {
     "data": {
      "image/png": "[encoded data removed]",
      "text/plain": [
       "<Figure size 432x288 with 1 Axes>"
      ]
     },
     "metadata": {
      "needs_background": "light"
     },
     "output_type": "display_data"
    }
   ],
   "source": [
    "plt.plot((Xsim.abs()).mean(0)[0][:100])"
   ]
  },
  {
   "cell_type": "code",
   "execution_count": 70,
   "metadata": {},
   "outputs": [
    {
     "data": {
      "text/plain": [
       "tensor([[ 0,  1,  2,  ..., 10, 10, 10],\n",
       "        [ 1,  0,  1,  ..., 10, 10, 10],\n",
       "        [ 2,  1,  0,  ..., 10, 10, 10],\n",
       "        ...,\n",
       "        [10, 10, 10,  ...,  0,  1,  2],\n",
       "        [10, 10, 10,  ...,  1,  0,  1],\n",
       "        [10, 10, 10,  ...,  2,  1,  0]])"
      ]
     },
     "execution_count": 70,
     "metadata": {},
     "output_type": "execute_result"
    }
   ],
   "source": [
    "#Xsim.std(dim=2).mean(dim=1).unsqueeze(1).unsqueeze(2)\n",
    "#pred\n",
    "\n",
    "a = torch.arange(config[\"guess_grid_size\"]).unsqueeze(1)\n",
    "\n",
    "cost_cap = torch.tensor(10)\n",
    "cost = torch.minimum( (a - a.T).abs(),cost_cap)\n",
    "\n",
    "#cost = cost[y].to(torch.float)\n",
    "\n",
    "#(pred, 1)\n",
    "#pred.softmax(1)*cost[y]\n",
    "loss_fn = torch.nn.CrossEntropyLoss()\n",
    "loss_fn(pred,y)\n",
    "\n",
    "\n",
    "-(pred.softmax(1)[np.arange(y.shape[0]),y].log()).mean() # CrossEntropy\n",
    "(pred.softmax(1) * cost[y]).sum(1)\n",
    "\n",
    "\n"
   ]
  }
 ],
 "metadata": {
  "kernelspec": {
   "display_name": "base",
   "language": "python",
   "name": "python3"
  },
  "language_info": {
   "codemirror_mode": {
    "name": "ipython",
    "version": 3
   },
   "file_extension": ".py",
   "mimetype": "text/x-python",
   "name": "python",
   "nbconvert_exporter": "python",
   "pygments_lexer": "ipython3",
   "version": "3.9.16"
  }
 },
 "nbformat": 4,
 "nbformat_minor": 2
}
