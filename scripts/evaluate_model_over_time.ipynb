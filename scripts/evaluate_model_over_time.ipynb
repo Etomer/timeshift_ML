{
 "cells": [
  {
   "cell_type": "code",
   "execution_count": 1,
   "metadata": {},
   "outputs": [],
   "source": [
    "import torch\n",
    "from torch.utils.data import Dataset, DataLoader\n",
    "import scipy.io.wavfile as wav\n",
    "import os\n",
    "import pandas as pd\n",
    "import matplotlib.pyplot as plt\n",
    "import torchaudio\n",
    "import glob\n",
    "import math\n",
    "import torch.nn as nn\n",
    "import numpy as np\n",
    "from bisect import bisect_left\n",
    "import scipy as sp\n",
    "import h5py\n",
    "from scipy.io import wavfile\n",
    "from glob import glob\n",
    "\n",
    "import sys\n",
    "import importlib\n",
    "import json"
   ]
  },
  {
   "cell_type": "code",
   "execution_count": 57,
   "metadata": {},
   "outputs": [],
   "source": [
    "\n",
    "dataset_path = \"../data/reference_data/tdoa_20201016/data/\"\n",
    "experiment = \"music_0014\"\n",
    "\n",
    "\n",
    "n_audio_files = len(glob(os.path.join(dataset_path,experiment,\"*.wav\")))\n",
    "\n",
    "sounds = []\n",
    "for i in range(n_audio_files):\n",
    "    fs, temp = wavfile.read(os.path.join(dataset_path,experiment,\"Track \" + str(i+1) + \".wav\"))\n",
    "    sounds.append(temp)\n",
    "sounds = np.stack(sounds)\n",
    "\n",
    "#read gt\n",
    "df = pd.read_csv(os.path.join(dataset_path, experiment, \"gt_positions.csv\")) # Note time-column = 0 when audio-recordings started\n",
    "\n",
    "dims = [\"x\",\"y\",\"z\"]\n",
    "time = df[\"time\"]\n",
    "senders = df[[\"speaker\" + \"_\" +dim for dim in dims]].to_numpy()\n",
    "receivers = np.zeros((n_audio_files,3))\n",
    "for i in range(n_audio_files):\n",
    "    for j,dim in enumerate([\"x\",\"y\",\"z\"]):\n",
    "        temp = df[\"mic\" + str(i+1) + \"_\" + dim]\n",
    "        receivers[i,j] = temp[temp.notnull()].median()\n",
    "\n",
    "#settings\n",
    "downsampling_factor = 6 # going from 96 kHz to 16 kHz which models are trained on\n",
    "chunk_length = 10000\n",
    "max_freq = 2500 #component of fft, NOT in HZ\n",
    "\n",
    "#constants\n",
    "n_chunks = (sounds.shape[1]//downsampling_factor) // (chunk_length)\n",
    "n_mics = sounds.shape[0]\n",
    "n_pairs = n_mics*(n_mics-1)//2\n",
    "speed_of_sound = 343\n",
    "max_diff_meters = chunk_length*speed_of_sound/(2*fs)\n",
    "\n",
    "# divide sound into chunks\n",
    "chunks = sounds[:,::downsampling_factor][:,:n_chunks*chunk_length].reshape(n_mics, n_chunks, chunk_length)\n",
    "chunk_times = np.array([downsampling_factor*chunk_length/fs*i for i in range(n_chunks)])\n",
    "\n",
    "# time sync ground truth to chunks\n",
    "sender_position_at_chunk = np.stack([np.interp(chunk_times,time,senders[:,i]) for i in range(3)]).T\n",
    "\n",
    "# create all pairs\n",
    "pairs = np.zeros(((chunks.shape[0]*(chunks.shape[0]-1))//2, chunks.shape[1], 4 ,max_freq))\n",
    "pairs_gt = np.zeros(((chunks.shape[0]*(chunks.shape[0]-1))//2, chunks.shape[1]))\n",
    "counter = 0\n",
    "for mic1 in range(12):\n",
    "    for mic2 in range(mic1+1,12):\n",
    "        pairs[counter,:,0] = np.real(sp.fft.rfft(chunks[mic1])[:,:max_freq])\n",
    "        pairs[counter,:,1] = np.real(sp.fft.rfft(chunks[mic2])[:,:max_freq])\n",
    "        pairs[counter,:,2] = np.imag(sp.fft.rfft(chunks[mic1])[:,:max_freq])\n",
    "        pairs[counter,:,3] = np.imag(sp.fft.rfft(chunks[mic2])[:,:max_freq])\n",
    "        \n",
    "\n",
    "        pairs_gt[counter] = (np.linalg.norm(sender_position_at_chunk - receivers[mic1],axis=1) - np.linalg.norm(sender_position_at_chunk - receivers[mic2],axis=1))\n",
    "        counter += 1 "
   ]
  },
  {
   "cell_type": "code",
   "execution_count": 3,
   "metadata": {},
   "outputs": [],
   "source": [
    "# Settings --------------------------------------\n",
    "dataset_path = \"../data/datasets/impulse_response_medium_evaluation.hdf5\"\n",
    "\n",
    "# model_folder = \"../runs/astral-shadow-62/\"\n",
    "# checkpoint = \"new_type_dataset_medium_astral-shadow-62_900.pth\" #False\n",
    "\n",
    "model_folder = \"../runs/gallant-waterfall-89/\"\n",
    "checkpoint = \"gallant-waterfall-89_400.pth\"\n",
    "\n",
    "# model_folder = \"../runs/non_wandb/\"\n",
    "# checkpoint = \"not_logged_0.pth\" #False\n",
    "\n",
    "# model_folder = \"../runs/gcc_phat/\"\n",
    "# checkpoint = False\n",
    "\n",
    "batch_size = 100 # just needed to make computation smooth\n",
    "device = \"cpu\"#'cuda:1' if torch.cuda.is_available() else ('mps' if torch.backends.mps.is_available() else 'cpu')\n",
    "#-------------------------------------------------\n"
   ]
  },
  {
   "cell_type": "code",
   "execution_count": 4,
   "metadata": {},
   "outputs": [],
   "source": [
    "class Classifier(nn.Module):\n",
    "\n",
    "    def __init__(self):\n",
    "        super().__init__()\n",
    "        \n",
    "        self.thinker = nn.Sequential(\n",
    "            nn.Flatten(),\n",
    "            nn.Dropout(config[\"dropout\"]),\n",
    "            nn.Linear(config[\"factor\"]*config[\"cnn_output_size_at_factor_1\"],1000),\n",
    "            nn.GELU(),\n",
    "            #Block(1000),\n",
    "            #Block(1000),\n",
    "            nn.Linear(1000,config[\"guess_grid_size\"])\n",
    "        )\n",
    "        \n",
    "        self.apply(self._init_weights)\n",
    "        \n",
    "        self.cnn = nn.Sequential(\n",
    "            nn.Conv1d(4,48*config[\"factor\"], 50,stride=5),\n",
    "            nn.GELU(),\n",
    "            nn.Conv1d(48*config[\"factor\"],48*config[\"factor\"], 50,stride=5),\n",
    "            nn.GELU(),\n",
    "            nn.Conv1d(48*config[\"factor\"],48*config[\"factor\"], 30,stride=5),\n",
    "            nn.GELU(),\n",
    "            nn.Flatten(),\n",
    "        )\n",
    "        \n",
    "        \n",
    "        \n",
    "\n",
    "    def _init_weights(self, module):\n",
    "        if isinstance(module, nn.Linear):\n",
    "            torch.nn.init.normal_(module.weight, mean=0.0, std=0.00002)\n",
    "            if module.bias is not None:\n",
    "                torch.nn.init.zeros_(module.bias)\n",
    "        elif isinstance(module, nn.Embedding):\n",
    "            torch.nn.init.normal_(module.weight, mean=0.0, std=0.00002)\n",
    "        \n",
    "                \n",
    "    def forward(self, x):\n",
    "        x = self.cnn(x)\n",
    "        x = self.thinker(x)\n",
    "        return x\n",
    "\n",
    "config = json.load(open(os.path.join(model_folder,\"config.json\"),'r'))\n",
    "\n",
    "sys.path.append(model_folder)\n",
    "model_file = importlib.import_module((config[\"model\"]))\n",
    "\n",
    "model = model_file.model(config)\n",
    "if checkpoint:\n",
    "    model = torch.load(os.path.join(model_folder,\"checkpoints\",checkpoint), map_location=device)\n",
    "    model.eval() # regression on dropout is not great"
   ]
  },
  {
   "cell_type": "code",
   "execution_count": 54,
   "metadata": {},
   "outputs": [],
   "source": [
    "#mic1 = 0\n",
    "#mic2 = 1\n",
    "pair_i = 11\n",
    "X = torch.tensor(pairs[pair_i],dtype=torch.float)\n",
    "#X = X/4e4\n",
    "#X[:,:,:50] = 0\n",
    "pred = model(X)\n",
    "def y_to_class_gt(y, guess_grid_size, max_shift) :\n",
    "        y[y.abs() > max_shift] = max_shift*y[y.abs() > max_shift].sign()\n",
    "\n",
    "        bin_width = max_shift*2/guess_grid_size\n",
    "        y = (y/bin_width).round() + guess_grid_size // 2 \n",
    "        y[y == guess_grid_size] = guess_grid_size - 1\n",
    "        return y.long()\n",
    "y = y_to_class_gt(torch.tensor(pairs_gt[pair_i]*16000/343), config[\"guess_grid_size\"], config[\"max_shift\"])\n"
   ]
  },
  {
   "cell_type": "code",
   "execution_count": 55,
   "metadata": {},
   "outputs": [
    {
     "data": {
      "text/plain": [
       "[<matplotlib.lines.Line2D at 0x309ef7580>]"
      ]
     },
     "execution_count": 55,
     "metadata": {},
     "output_type": "execute_result"
    },
    {
     "data": {
      "image/png": "[encoded data removed]",
      "text/plain": [
       "<Figure size 1440x864 with 1 Axes>"
      ]
     },
     "metadata": {
      "needs_background": "light"
     },
     "output_type": "display_data"
    }
   ],
   "source": [
    "plt.figure(figsize=(20,12))\n",
    "plt.imshow(pred.softmax(dim=1).detach().T, aspect='auto')\n",
    "plt.plot(y,'r.',markersize=2)\n",
    "\n",
    "#plt.ylim(40,60)\n"
   ]
  },
  {
   "cell_type": "code",
   "execution_count": 34,
   "metadata": {},
   "outputs": [
    {
     "data": {
      "text/plain": [
       "model(\n",
       "  (thinker): Sequential(\n",
       "    (0): Flatten(start_dim=1, end_dim=-1)\n",
       "    (1): Dropout(p=0.1, inplace=False)\n",
       "    (2): Linear(in_features=5760, out_features=1000, bias=True)\n",
       "    (3): GELU(approximate='none')\n",
       "    (4): Block(\n",
       "      (dropout): Dropout(p=0.1, inplace=False)\n",
       "      (l): Linear(in_features=1000, out_features=2000, bias=True)\n",
       "      (l2): Linear(in_features=2000, out_features=1000, bias=True)\n",
       "      (act): GELU(approximate='none')\n",
       "      (ln): LayerNorm((1000,), eps=1e-05, elementwise_affine=True)\n",
       "    )\n",
       "    (5): Block(\n",
       "      (dropout): Dropout(p=0.1, inplace=False)\n",
       "      (l): Linear(in_features=1000, out_features=2000, bias=True)\n",
       "      (l2): Linear(in_features=2000, out_features=1000, bias=True)\n",
       "      (act): GELU(approximate='none')\n",
       "      (ln): LayerNorm((1000,), eps=1e-05, elementwise_affine=True)\n",
       "    )\n",
       "    (6): Linear(in_features=1000, out_features=500, bias=True)\n",
       "  )\n",
       "  (cnn): Sequential(\n",
       "    (0): Conv1d(4, 480, kernel_size=(50,), stride=(5,))\n",
       "    (1): GELU(approximate='none')\n",
       "    (2): Conv1d(480, 480, kernel_size=(50,), stride=(5,))\n",
       "    (3): GELU(approximate='none')\n",
       "    (4): Conv1d(480, 480, kernel_size=(30,), stride=(5,))\n",
       "    (5): GELU(approximate='none')\n",
       "    (6): Flatten(start_dim=1, end_dim=-1)\n",
       "  )\n",
       ")"
      ]
     },
     "execution_count": 34,
     "metadata": {},
     "output_type": "execute_result"
    }
   ],
   "source": [
    "model"
   ]
  }
 ],
 "metadata": {
  "kernelspec": {
   "display_name": "base",
   "language": "python",
   "name": "python3"
  },
  "language_info": {
   "codemirror_mode": {
    "name": "ipython",
    "version": 3
   },
   "file_extension": ".py",
   "mimetype": "text/x-python",
   "name": "python",
   "nbconvert_exporter": "python",
   "pygments_lexer": "ipython3",
   "version": "3.9.16"
  }
 },
 "nbformat": 4,
 "nbformat_minor": 2
}
